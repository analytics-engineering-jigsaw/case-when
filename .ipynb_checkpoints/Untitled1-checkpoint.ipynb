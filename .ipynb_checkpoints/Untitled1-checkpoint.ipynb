{
 "cells": [
  {
   "cell_type": "markdown",
   "id": "c691b158-9ebe-4d55-b78a-af83848ea528",
   "metadata": {},
   "source": [
    "# Case When in SQL"
   ]
  },
  {
   "cell_type": "markdown",
   "id": "9be535a7-182c-46b5-adb3-f44b72519941",
   "metadata": {},
   "source": [
    "### Introduction"
   ]
  },
  {
   "cell_type": "markdown",
   "id": "60fc003a-1659-46ae-aac0-a013689ae36f",
   "metadata": {},
   "source": [
    "### Loading our Data"
   ]
  },
  {
   "cell_type": "markdown",
   "id": "25cd625e-8c22-49ce-a039-da527418f527",
   "metadata": {},
   "source": [
    "For this lesson, let's work with the case when statement in SQL.  We can load the data into our database with the following. "
   ]
  },
  {
   "cell_type": "code",
   "execution_count": 10,
   "id": "70c88984-5a4e-4dbe-ac2e-270e19f5a0db",
   "metadata": {},
   "outputs": [],
   "source": [
    "import pandas as pd\n",
    "df = pd.read_csv('./lunches.csv', index_col = 0)"
   ]
  },
  {
   "cell_type": "code",
   "execution_count": 11,
   "id": "36c76637-b5a1-438a-8318-c9d01b06baea",
   "metadata": {},
   "outputs": [],
   "source": [
    "import sqlite3\n",
    "conn = sqlite3.connect('./yelp.db')"
   ]
  },
  {
   "cell_type": "code",
   "execution_count": 12,
   "id": "7487117e-1aed-47b0-8e17-286df2b85ab1",
   "metadata": {},
   "outputs": [],
   "source": [
    "cursor = conn.cursor()"
   ]
  },
  {
   "cell_type": "code",
   "execution_count": null,
   "id": "fd0e08fb-b875-4880-95f8-b42120d93b39",
   "metadata": {},
   "outputs": [],
   "source": [
    "df['id'] = df.index"
   ]
  },
  {
   "cell_type": "code",
   "execution_count": null,
   "id": "a5f0f6bc-2c39-4682-8210-2d02dc70d200",
   "metadata": {},
   "outputs": [],
   "source": [
    "df = df[['id', 'Name', 'Address', 'City', 'Category', 'Rating', 'URL']]"
   ]
  },
  {
   "cell_type": "code",
   "execution_count": null,
   "id": "e8a92ff5-2faa-411f-b1cf-3a8efa97bc14",
   "metadata": {},
   "outputs": [],
   "source": [
    "df.to_sql('restaurants', conn, index = False, if_exists = 'replace')"
   ]
  },
  {
   "cell_type": "markdown",
   "id": "a1510d83-d676-4c1b-b198-07c1e4f56a3a",
   "metadata": {},
   "source": [
    "And then we can confirm that data is loaded into the database with the following."
   ]
  },
  {
   "cell_type": "code",
   "execution_count": 22,
   "id": "27f1494c-b940-4d35-a6a3-ee5b13ec23bd",
   "metadata": {},
   "outputs": [
    {
     "data": {
      "text/html": [
       "<div>\n",
       "<style scoped>\n",
       "    .dataframe tbody tr th:only-of-type {\n",
       "        vertical-align: middle;\n",
       "    }\n",
       "\n",
       "    .dataframe tbody tr th {\n",
       "        vertical-align: top;\n",
       "    }\n",
       "\n",
       "    .dataframe thead th {\n",
       "        text-align: right;\n",
       "    }\n",
       "</style>\n",
       "<table border=\"1\" class=\"dataframe\">\n",
       "  <thead>\n",
       "    <tr style=\"text-align: right;\">\n",
       "      <th></th>\n",
       "      <th>COALESCE(name, 'na')</th>\n",
       "    </tr>\n",
       "  </thead>\n",
       "  <tbody>\n",
       "    <tr>\n",
       "      <th>0</th>\n",
       "      <td>Rambling House</td>\n",
       "    </tr>\n",
       "  </tbody>\n",
       "</table>\n",
       "</div>"
      ],
      "text/plain": [
       "  COALESCE(name, 'na')\n",
       "0       Rambling House"
      ]
     },
     "execution_count": 22,
     "metadata": {},
     "output_type": "execute_result"
    }
   ],
   "source": [
    "pd.read_sql(\"SELECT COALESCE(name, 'na') FROM restaurants LIMIT 1\", conn)"
   ]
  },
  {
   "cell_type": "code",
   "execution_count": null,
   "id": "879e6359-dfd7-4570-b874-05eee6f9696e",
   "metadata": {},
   "outputs": [],
   "source": [
    "Now if we "
   ]
  }
 ],
 "metadata": {
  "kernelspec": {
   "display_name": "Python 3 (ipykernel)",
   "language": "python",
   "name": "python3"
  },
  "language_info": {
   "codemirror_mode": {
    "name": "ipython",
    "version": 3
   },
   "file_extension": ".py",
   "mimetype": "text/x-python",
   "name": "python",
   "nbconvert_exporter": "python",
   "pygments_lexer": "ipython3",
   "version": "3.9.7"
  }
 },
 "nbformat": 4,
 "nbformat_minor": 5
}
