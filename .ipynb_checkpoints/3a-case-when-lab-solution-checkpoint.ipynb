{
 "cells": [
  {
   "cell_type": "markdown",
   "id": "d1144f37-8403-45df-96e1-9b707969e867",
   "metadata": {},
   "source": [
    "# Case When Lab"
   ]
  },
  {
   "cell_type": "markdown",
   "id": "2e995aa8-d3bd-49f5-af5e-01225acb6a1b",
   "metadata": {},
   "source": [
    "### Introduction"
   ]
  },
  {
   "cell_type": "markdown",
   "id": "c9ccfc13-ccc0-4945-b0d1-feaeac43c3e7",
   "metadata": {},
   "source": [
    "In this lesson, we'll use case when to work with data of different purchases."
   ]
  },
  {
   "cell_type": "markdown",
   "id": "b03c0e33-e993-4ffc-807c-f576edaf6de1",
   "metadata": {},
   "source": [
    "### Loading our Data"
   ]
  },
  {
   "cell_type": "markdown",
   "id": "a8041ce5-ff15-41c8-a355-4a026239a6b8",
   "metadata": {},
   "source": [
    "For this lab, we'll use data from one of DBT's sample database."
   ]
  },
  {
   "cell_type": "code",
   "execution_count": 1,
   "id": "38ab1309-fa88-4a4f-8d43-145b1b0782f3",
   "metadata": {},
   "outputs": [],
   "source": [
    "import sqlite3\n",
    "conn = sqlite3.connect('furniture_shop.db')"
   ]
  },
  {
   "cell_type": "code",
   "execution_count": 2,
   "id": "4e0d3199-6f0e-4e4a-82a7-732edb3d88ff",
   "metadata": {},
   "outputs": [],
   "source": [
    "import pandas as pd\n",
    "root_url = \"https://raw.githubusercontent.com/data-eng-10-21/case-when/main/data/\"\n",
    "orders_df = pd.read_csv(f'{root_url}/updated_orders.csv', parse_dates=['order_date'])\n",
    "payments_df = pd.read_csv(f'{root_url}/payments.csv')\n",
    "customers_df = pd.read_csv(f'{root_url}/customers.csv')"
   ]
  },
  {
   "cell_type": "code",
   "execution_count": 3,
   "id": "170c9ddd-8719-4402-9946-21f9b7d22f52",
   "metadata": {},
   "outputs": [
    {
     "data": {
      "text/plain": [
       "100"
      ]
     },
     "execution_count": 3,
     "metadata": {},
     "output_type": "execute_result"
    }
   ],
   "source": [
    "orders_df.to_sql('orders', conn, index = False, if_exists = 'replace')\n",
    "payments_df.to_sql('payments', conn, index = False, if_exists = 'replace')\n",
    "customers_df.to_sql('customers', conn, index = False, if_exists = 'replace')"
   ]
  },
  {
   "cell_type": "markdown",
   "id": "ff67d466-d7bc-43b4-a878-fd16129496b2",
   "metadata": {},
   "source": [
    "### Exploring our data"
   ]
  },
  {
   "cell_type": "markdown",
   "id": "27e9204f-1605-480e-8c8b-9b023912f007",
   "metadata": {},
   "source": [
    "Now let's begin by working with our order data."
   ]
  },
  {
   "cell_type": "code",
   "execution_count": 4,
   "id": "c958fb10-ae6b-4211-9c59-84ed31721d20",
   "metadata": {},
   "outputs": [
    {
     "data": {
      "text/html": [
       "<div>\n",
       "<style scoped>\n",
       "    .dataframe tbody tr th:only-of-type {\n",
       "        vertical-align: middle;\n",
       "    }\n",
       "\n",
       "    .dataframe tbody tr th {\n",
       "        vertical-align: top;\n",
       "    }\n",
       "\n",
       "    .dataframe thead th {\n",
       "        text-align: right;\n",
       "    }\n",
       "</style>\n",
       "<table border=\"1\" class=\"dataframe\">\n",
       "  <thead>\n",
       "    <tr style=\"text-align: right;\">\n",
       "      <th></th>\n",
       "      <th>id</th>\n",
       "      <th>user_id</th>\n",
       "      <th>order_date</th>\n",
       "      <th>status</th>\n",
       "    </tr>\n",
       "  </thead>\n",
       "  <tbody>\n",
       "    <tr>\n",
       "      <th>0</th>\n",
       "      <td>1</td>\n",
       "      <td>1</td>\n",
       "      <td>2018-01-01 00:00:00</td>\n",
       "      <td>returned</td>\n",
       "    </tr>\n",
       "    <tr>\n",
       "      <th>1</th>\n",
       "      <td>2</td>\n",
       "      <td>3</td>\n",
       "      <td>2018-01-02 00:00:00</td>\n",
       "      <td>completed</td>\n",
       "    </tr>\n",
       "    <tr>\n",
       "      <th>2</th>\n",
       "      <td>3</td>\n",
       "      <td>94</td>\n",
       "      <td>2018-01-04 00:00:00</td>\n",
       "      <td>completed</td>\n",
       "    </tr>\n",
       "  </tbody>\n",
       "</table>\n",
       "</div>"
      ],
      "text/plain": [
       "   id  user_id           order_date     status\n",
       "0   1        1  2018-01-01 00:00:00   returned\n",
       "1   2        3  2018-01-02 00:00:00  completed\n",
       "2   3       94  2018-01-04 00:00:00  completed"
      ]
     },
     "execution_count": 4,
     "metadata": {},
     "output_type": "execute_result"
    }
   ],
   "source": [
    "query = \"\"\"\n",
    "SELECT * FROM orders LIMIT 3;\n",
    "\"\"\"\n",
    "pd.read_sql(query, conn)"
   ]
  },
  {
   "cell_type": "markdown",
   "id": "f3d07069-4c22-424d-ae7c-8d464dd83dd2",
   "metadata": {},
   "source": [
    "We can see that each order has a different status.  Let's begin by viewing all of the different options under status.  Name of the column `status_types`."
   ]
  },
  {
   "cell_type": "code",
   "execution_count": 6,
   "id": "fcaeee71-7893-4a7a-a4d0-933800659958",
   "metadata": {},
   "outputs": [
    {
     "data": {
      "text/html": [
       "<div>\n",
       "<style scoped>\n",
       "    .dataframe tbody tr th:only-of-type {\n",
       "        vertical-align: middle;\n",
       "    }\n",
       "\n",
       "    .dataframe tbody tr th {\n",
       "        vertical-align: top;\n",
       "    }\n",
       "\n",
       "    .dataframe thead th {\n",
       "        text-align: right;\n",
       "    }\n",
       "</style>\n",
       "<table border=\"1\" class=\"dataframe\">\n",
       "  <thead>\n",
       "    <tr style=\"text-align: right;\">\n",
       "      <th></th>\n",
       "      <th>status_types</th>\n",
       "    </tr>\n",
       "  </thead>\n",
       "  <tbody>\n",
       "    <tr>\n",
       "      <th>0</th>\n",
       "      <td>returned</td>\n",
       "    </tr>\n",
       "    <tr>\n",
       "      <th>1</th>\n",
       "      <td>completed</td>\n",
       "    </tr>\n",
       "    <tr>\n",
       "      <th>2</th>\n",
       "      <td>return_pending</td>\n",
       "    </tr>\n",
       "    <tr>\n",
       "      <th>3</th>\n",
       "      <td>shipped</td>\n",
       "    </tr>\n",
       "    <tr>\n",
       "      <th>4</th>\n",
       "      <td>placed</td>\n",
       "    </tr>\n",
       "  </tbody>\n",
       "</table>\n",
       "</div>"
      ],
      "text/plain": [
       "     status_types\n",
       "0        returned\n",
       "1       completed\n",
       "2  return_pending\n",
       "3         shipped\n",
       "4          placed"
      ]
     },
     "execution_count": 6,
     "metadata": {},
     "output_type": "execute_result"
    }
   ],
   "source": [
    "query = \"\"\"\n",
    "select distinct(status) as status_types FROM orders\n",
    "\"\"\"\n",
    "\n",
    "pd.read_sql(query, conn)\n",
    "\n",
    "# \tstatus_types\n",
    "# 0\treturned\n",
    "# 1\tcompleted\n",
    "# 2\treturn_pending\n",
    "# 3\tshipped\n",
    "# 4\tplaced"
   ]
  },
  {
   "cell_type": "markdown",
   "id": "59b94e7d-1b0b-4192-a835-277e715c115d",
   "metadata": {},
   "source": [
    "And now let's count up the number of times each status occurs in our dataset, order from most to least. "
   ]
  },
  {
   "cell_type": "code",
   "execution_count": 10,
   "id": "2056bf6c-592d-4315-986c-12f2ec0d9082",
   "metadata": {},
   "outputs": [
    {
     "data": {
      "text/html": [
       "<div>\n",
       "<style scoped>\n",
       "    .dataframe tbody tr th:only-of-type {\n",
       "        vertical-align: middle;\n",
       "    }\n",
       "\n",
       "    .dataframe tbody tr th {\n",
       "        vertical-align: top;\n",
       "    }\n",
       "\n",
       "    .dataframe thead th {\n",
       "        text-align: right;\n",
       "    }\n",
       "</style>\n",
       "<table border=\"1\" class=\"dataframe\">\n",
       "  <thead>\n",
       "    <tr style=\"text-align: right;\">\n",
       "      <th></th>\n",
       "      <th>status</th>\n",
       "      <th>amount</th>\n",
       "    </tr>\n",
       "  </thead>\n",
       "  <tbody>\n",
       "    <tr>\n",
       "      <th>0</th>\n",
       "      <td>completed</td>\n",
       "      <td>50</td>\n",
       "    </tr>\n",
       "    <tr>\n",
       "      <th>1</th>\n",
       "      <td>returned</td>\n",
       "      <td>33</td>\n",
       "    </tr>\n",
       "    <tr>\n",
       "      <th>2</th>\n",
       "      <td>shipped</td>\n",
       "      <td>7</td>\n",
       "    </tr>\n",
       "    <tr>\n",
       "      <th>3</th>\n",
       "      <td>placed</td>\n",
       "      <td>7</td>\n",
       "    </tr>\n",
       "    <tr>\n",
       "      <th>4</th>\n",
       "      <td>return_pending</td>\n",
       "      <td>2</td>\n",
       "    </tr>\n",
       "  </tbody>\n",
       "</table>\n",
       "</div>"
      ],
      "text/plain": [
       "           status  amount\n",
       "0       completed      50\n",
       "1        returned      33\n",
       "2         shipped       7\n",
       "3          placed       7\n",
       "4  return_pending       2"
      ]
     },
     "execution_count": 10,
     "metadata": {},
     "output_type": "execute_result"
    }
   ],
   "source": [
    "query = \"\"\"\n",
    "select status, count(*) as amount \n",
    "from orders group by status \n",
    "order by amount desc\n",
    "\"\"\"\n",
    "pd.read_sql(query, conn)\n",
    "\n",
    "# \tstatus\tamount\n",
    "# 0\tcompleted\t50\n",
    "# 1\treturned\t33\n",
    "# 2\tshipped\t7\n",
    "# 3\tplaced\t7\n",
    "# 4\treturn_pending\t2"
   ]
  },
  {
   "cell_type": "markdown",
   "id": "7e2a3e98-7d81-4bb2-b118-a4f6dd53207a",
   "metadata": {},
   "source": [
    "Now let's try to get information on orders of each customer.  For each customer, count up the number of times he occurs in the orders database, as well as the number of orders that were completed and number of orders that were returned.  Order the data by the number of orders, and display the top five customers."
   ]
  },
  {
   "cell_type": "code",
   "execution_count": 13,
   "id": "1e13f794-591b-407a-b60f-323d627f4cfc",
   "metadata": {},
   "outputs": [
    {
     "data": {
      "text/html": [
       "<div>\n",
       "<style scoped>\n",
       "    .dataframe tbody tr th:only-of-type {\n",
       "        vertical-align: middle;\n",
       "    }\n",
       "\n",
       "    .dataframe tbody tr th {\n",
       "        vertical-align: top;\n",
       "    }\n",
       "\n",
       "    .dataframe thead th {\n",
       "        text-align: right;\n",
       "    }\n",
       "</style>\n",
       "<table border=\"1\" class=\"dataframe\">\n",
       "  <thead>\n",
       "    <tr style=\"text-align: right;\">\n",
       "      <th></th>\n",
       "      <th>id</th>\n",
       "      <th>user_id</th>\n",
       "      <th>order_date</th>\n",
       "      <th>status</th>\n",
       "    </tr>\n",
       "  </thead>\n",
       "  <tbody>\n",
       "    <tr>\n",
       "      <th>0</th>\n",
       "      <td>1</td>\n",
       "      <td>1</td>\n",
       "      <td>2018-01-01 00:00:00</td>\n",
       "      <td>returned</td>\n",
       "    </tr>\n",
       "    <tr>\n",
       "      <th>1</th>\n",
       "      <td>2</td>\n",
       "      <td>3</td>\n",
       "      <td>2018-01-02 00:00:00</td>\n",
       "      <td>completed</td>\n",
       "    </tr>\n",
       "    <tr>\n",
       "      <th>2</th>\n",
       "      <td>3</td>\n",
       "      <td>94</td>\n",
       "      <td>2018-01-04 00:00:00</td>\n",
       "      <td>completed</td>\n",
       "    </tr>\n",
       "    <tr>\n",
       "      <th>3</th>\n",
       "      <td>4</td>\n",
       "      <td>50</td>\n",
       "      <td>2018-01-05 00:00:00</td>\n",
       "      <td>completed</td>\n",
       "    </tr>\n",
       "    <tr>\n",
       "      <th>4</th>\n",
       "      <td>5</td>\n",
       "      <td>64</td>\n",
       "      <td>2018-01-05 00:00:00</td>\n",
       "      <td>returned</td>\n",
       "    </tr>\n",
       "  </tbody>\n",
       "</table>\n",
       "</div>"
      ],
      "text/plain": [
       "   id  user_id           order_date     status\n",
       "0   1        1  2018-01-01 00:00:00   returned\n",
       "1   2        3  2018-01-02 00:00:00  completed\n",
       "2   3       94  2018-01-04 00:00:00  completed\n",
       "3   4       50  2018-01-05 00:00:00  completed\n",
       "4   5       64  2018-01-05 00:00:00   returned"
      ]
     },
     "execution_count": 13,
     "metadata": {},
     "output_type": "execute_result"
    }
   ],
   "source": [
    "query = \"\"\"\n",
    "select * from orders limit 5;\n",
    "\"\"\"\n",
    "pd.read_sql(query, conn)"
   ]
  },
  {
   "cell_type": "code",
   "execution_count": 19,
   "id": "be22d1bc-097b-46b0-8bbc-5503e95586b5",
   "metadata": {},
   "outputs": [
    {
     "data": {
      "text/html": [
       "<div>\n",
       "<style scoped>\n",
       "    .dataframe tbody tr th:only-of-type {\n",
       "        vertical-align: middle;\n",
       "    }\n",
       "\n",
       "    .dataframe tbody tr th {\n",
       "        vertical-align: top;\n",
       "    }\n",
       "\n",
       "    .dataframe thead th {\n",
       "        text-align: right;\n",
       "    }\n",
       "</style>\n",
       "<table border=\"1\" class=\"dataframe\">\n",
       "  <thead>\n",
       "    <tr style=\"text-align: right;\">\n",
       "      <th></th>\n",
       "      <th>user_id</th>\n",
       "      <th>total_orders</th>\n",
       "      <th>returned</th>\n",
       "      <th>completed</th>\n",
       "    </tr>\n",
       "  </thead>\n",
       "  <tbody>\n",
       "    <tr>\n",
       "      <th>0</th>\n",
       "      <td>54</td>\n",
       "      <td>5</td>\n",
       "      <td>0</td>\n",
       "      <td>3</td>\n",
       "    </tr>\n",
       "    <tr>\n",
       "      <th>1</th>\n",
       "      <td>71</td>\n",
       "      <td>3</td>\n",
       "      <td>1</td>\n",
       "      <td>2</td>\n",
       "    </tr>\n",
       "    <tr>\n",
       "      <th>2</th>\n",
       "      <td>66</td>\n",
       "      <td>3</td>\n",
       "      <td>1</td>\n",
       "      <td>1</td>\n",
       "    </tr>\n",
       "    <tr>\n",
       "      <th>3</th>\n",
       "      <td>51</td>\n",
       "      <td>3</td>\n",
       "      <td>2</td>\n",
       "      <td>1</td>\n",
       "    </tr>\n",
       "    <tr>\n",
       "      <th>4</th>\n",
       "      <td>22</td>\n",
       "      <td>3</td>\n",
       "      <td>0</td>\n",
       "      <td>2</td>\n",
       "    </tr>\n",
       "  </tbody>\n",
       "</table>\n",
       "</div>"
      ],
      "text/plain": [
       "   user_id  total_orders  returned  completed\n",
       "0       54             5         0          3\n",
       "1       71             3         1          2\n",
       "2       66             3         1          1\n",
       "3       51             3         2          1\n",
       "4       22             3         0          2"
      ]
     },
     "execution_count": 19,
     "metadata": {},
     "output_type": "execute_result"
    }
   ],
   "source": [
    "query = \"\"\"\n",
    "select user_id,\n",
    "count(*) as total_orders,\n",
    "sum(case when status = 'returned' then 1 else 0 end) as returned,\n",
    "sum(case when status = 'completed' then 1 else 0 end) as completed\n",
    "from orders group by user_id order by total_orders desc limit 5;\n",
    "\"\"\"\n",
    "pd.read_sql(query, conn)\n",
    "\n",
    "# user_id\ttotal_orders\treturned\tcompleted\n",
    "# 0\t54\t5\t0\t3\n",
    "# 1\t71\t3\t1\t2\n",
    "# 2\t66\t3\t1\t1\n",
    "# 3\t51\t3\t2\t1\n",
    "# 4\t22\t3\t0\t2"
   ]
  },
  {
   "cell_type": "markdown",
   "id": "aa09332e-134c-4f06-b720-0b8041c0c593",
   "metadata": {},
   "source": [
    "### Working with Payments"
   ]
  },
  {
   "cell_type": "markdown",
   "id": "86d3d12b-7911-41a6-864b-0fe1bdf0b92a",
   "metadata": {},
   "source": [
    "Next, let's work with our payments data."
   ]
  },
  {
   "cell_type": "code",
   "execution_count": 60,
   "id": "190cb6af-289b-48eb-af74-df694919e872",
   "metadata": {},
   "outputs": [
    {
     "data": {
      "text/html": [
       "<div>\n",
       "<style scoped>\n",
       "    .dataframe tbody tr th:only-of-type {\n",
       "        vertical-align: middle;\n",
       "    }\n",
       "\n",
       "    .dataframe tbody tr th {\n",
       "        vertical-align: top;\n",
       "    }\n",
       "\n",
       "    .dataframe thead th {\n",
       "        text-align: right;\n",
       "    }\n",
       "</style>\n",
       "<table border=\"1\" class=\"dataframe\">\n",
       "  <thead>\n",
       "    <tr style=\"text-align: right;\">\n",
       "      <th></th>\n",
       "      <th>id</th>\n",
       "      <th>order_id</th>\n",
       "      <th>payment_method</th>\n",
       "      <th>amount</th>\n",
       "    </tr>\n",
       "  </thead>\n",
       "  <tbody>\n",
       "    <tr>\n",
       "      <th>0</th>\n",
       "      <td>1</td>\n",
       "      <td>1</td>\n",
       "      <td>credit_card</td>\n",
       "      <td>1000</td>\n",
       "    </tr>\n",
       "  </tbody>\n",
       "</table>\n",
       "</div>"
      ],
      "text/plain": [
       "   id  order_id payment_method  amount\n",
       "0   1         1    credit_card    1000"
      ]
     },
     "execution_count": 60,
     "metadata": {},
     "output_type": "execute_result"
    }
   ],
   "source": [
    "query = \"\"\"\n",
    "SELECT * FROM payments\n",
    "LIMIT 1\n",
    "\"\"\"\n",
    "pd.read_sql(query, conn)"
   ]
  },
  {
   "cell_type": "markdown",
   "id": "7b66faf0-8513-401b-97a9-ea3997576b78",
   "metadata": {},
   "source": [
    "Let's begin by viewing the amount of times each payment method was used, and order from most to least."
   ]
  },
  {
   "cell_type": "code",
   "execution_count": 24,
   "id": "b4fbd94c-bbd0-4afc-958e-071a58f95576",
   "metadata": {},
   "outputs": [
    {
     "data": {
      "text/html": [
       "<div>\n",
       "<style scoped>\n",
       "    .dataframe tbody tr th:only-of-type {\n",
       "        vertical-align: middle;\n",
       "    }\n",
       "\n",
       "    .dataframe tbody tr th {\n",
       "        vertical-align: top;\n",
       "    }\n",
       "\n",
       "    .dataframe thead th {\n",
       "        text-align: right;\n",
       "    }\n",
       "</style>\n",
       "<table border=\"1\" class=\"dataframe\">\n",
       "  <thead>\n",
       "    <tr style=\"text-align: right;\">\n",
       "      <th></th>\n",
       "      <th>payment_method</th>\n",
       "      <th>amount</th>\n",
       "    </tr>\n",
       "  </thead>\n",
       "  <tbody>\n",
       "    <tr>\n",
       "      <th>0</th>\n",
       "      <td>credit_card</td>\n",
       "      <td>55</td>\n",
       "    </tr>\n",
       "    <tr>\n",
       "      <th>1</th>\n",
       "      <td>bank_transfer</td>\n",
       "      <td>33</td>\n",
       "    </tr>\n",
       "    <tr>\n",
       "      <th>2</th>\n",
       "      <td>coupon</td>\n",
       "      <td>13</td>\n",
       "    </tr>\n",
       "    <tr>\n",
       "      <th>3</th>\n",
       "      <td>gift_card</td>\n",
       "      <td>12</td>\n",
       "    </tr>\n",
       "  </tbody>\n",
       "</table>\n",
       "</div>"
      ],
      "text/plain": [
       "  payment_method  amount\n",
       "0    credit_card      55\n",
       "1  bank_transfer      33\n",
       "2         coupon      13\n",
       "3      gift_card      12"
      ]
     },
     "execution_count": 24,
     "metadata": {},
     "output_type": "execute_result"
    }
   ],
   "source": [
    "query = \"\"\"\n",
    "select payment_method, count(*) as amount\n",
    "from payments group by payment_method \n",
    "order by amount desc\n",
    "\"\"\"\n",
    "pd.read_sql(query, conn)\n",
    "\n",
    "# \tpayment_method\tamount\n",
    "# 0\tcredit_card\t55\n",
    "# 1\tbank_transfer\t33\n",
    "# 2\tcoupon\t13\n",
    "# 3\tgift_card\t12"
   ]
  },
  {
   "cell_type": "markdown",
   "id": "d8dd4ff7-3412-4e3e-a828-358001261bd2",
   "metadata": {},
   "source": [
    "Now for each customer, calculate the amount spent via credit card, bank transfer, other (if not spent by credit card or bank transfer), and the total amount spent.  Order by the total amount spent.  Limit to the first five customers."
   ]
  },
  {
   "cell_type": "code",
   "execution_count": 39,
   "id": "858c934b-8d35-4507-b292-7c68cece286f",
   "metadata": {},
   "outputs": [
    {
     "data": {
      "text/html": [
       "<div>\n",
       "<style scoped>\n",
       "    .dataframe tbody tr th:only-of-type {\n",
       "        vertical-align: middle;\n",
       "    }\n",
       "\n",
       "    .dataframe tbody tr th {\n",
       "        vertical-align: top;\n",
       "    }\n",
       "\n",
       "    .dataframe thead th {\n",
       "        text-align: right;\n",
       "    }\n",
       "</style>\n",
       "<table border=\"1\" class=\"dataframe\">\n",
       "  <thead>\n",
       "    <tr style=\"text-align: right;\">\n",
       "      <th></th>\n",
       "      <th>total_spend</th>\n",
       "      <th>credit_spend</th>\n",
       "      <th>bank_spend</th>\n",
       "      <th>other</th>\n",
       "    </tr>\n",
       "  </thead>\n",
       "  <tbody>\n",
       "    <tr>\n",
       "      <th>0</th>\n",
       "      <td>9900</td>\n",
       "      <td>6300</td>\n",
       "      <td>2000</td>\n",
       "      <td>1600</td>\n",
       "    </tr>\n",
       "    <tr>\n",
       "      <th>1</th>\n",
       "      <td>6500</td>\n",
       "      <td>3900</td>\n",
       "      <td>0</td>\n",
       "      <td>2600</td>\n",
       "    </tr>\n",
       "    <tr>\n",
       "      <th>2</th>\n",
       "      <td>6400</td>\n",
       "      <td>3400</td>\n",
       "      <td>0</td>\n",
       "      <td>3000</td>\n",
       "    </tr>\n",
       "    <tr>\n",
       "      <th>3</th>\n",
       "      <td>5700</td>\n",
       "      <td>2500</td>\n",
       "      <td>2600</td>\n",
       "      <td>600</td>\n",
       "    </tr>\n",
       "    <tr>\n",
       "      <th>4</th>\n",
       "      <td>5700</td>\n",
       "      <td>2900</td>\n",
       "      <td>0</td>\n",
       "      <td>2800</td>\n",
       "    </tr>\n",
       "  </tbody>\n",
       "</table>\n",
       "</div>"
      ],
      "text/plain": [
       "   total_spend  credit_spend  bank_spend  other\n",
       "0         9900          6300        2000   1600\n",
       "1         6500          3900           0   2600\n",
       "2         6400          3400           0   3000\n",
       "3         5700          2500        2600    600\n",
       "4         5700          2900           0   2800"
      ]
     },
     "execution_count": 39,
     "metadata": {},
     "output_type": "execute_result"
    }
   ],
   "source": [
    "query = \"\"\"\n",
    "select \n",
    "sum(amount) as total_spend,\n",
    "sum(case when payment_method = 'credit_card' then amount else 0 end) as credit_spend,\n",
    "sum(case when payment_method = 'bank_transfer' then amount else 0 end) as bank_spend,\n",
    "sum(case when payment_method = 'bank_transfer' or payment_method = 'credit_card'  then 0 else amount end) as other\n",
    "from payments \n",
    "join orders on payments.order_id = orders.id\n",
    "group by user_id order by total_spend desc\n",
    "limit 5;\n",
    "\"\"\"\n",
    "pd.read_sql(query, conn)\n",
    "\n",
    "# \tuser_id\ttotal_spend\tcredit_spend\tbank_spend\tother_spend\n",
    "# 0\t51\t9900\t 6300\t2000\t1600\n",
    "# 1\t3\t6500\t3900\t0\t2600\n",
    "# 2\t46\t6400\t3400\t0\t3000\n",
    "# 3\t54\t5700\t2500\t2600\t600\n",
    "# 4\t30\t5700\t2900\t0\t2800"
   ]
  },
  {
   "cell_type": "markdown",
   "id": "2a78ac4e-c314-4da8-9573-4dda4a0d16c4",
   "metadata": {},
   "source": [
    "Now the above query includes returned orders, so let's perform the same query but this time update the query to exclude returned items."
   ]
  },
  {
   "cell_type": "code",
   "execution_count": 41,
   "id": "bb54e95c-78d8-4e13-9674-a696bd9bcf1d",
   "metadata": {},
   "outputs": [
    {
     "data": {
      "text/html": [
       "<div>\n",
       "<style scoped>\n",
       "    .dataframe tbody tr th:only-of-type {\n",
       "        vertical-align: middle;\n",
       "    }\n",
       "\n",
       "    .dataframe tbody tr th {\n",
       "        vertical-align: top;\n",
       "    }\n",
       "\n",
       "    .dataframe thead th {\n",
       "        text-align: right;\n",
       "    }\n",
       "</style>\n",
       "<table border=\"1\" class=\"dataframe\">\n",
       "  <thead>\n",
       "    <tr style=\"text-align: right;\">\n",
       "      <th></th>\n",
       "      <th>user_id</th>\n",
       "      <th>total_spend</th>\n",
       "      <th>credit_spend</th>\n",
       "      <th>bank_spend</th>\n",
       "      <th>other</th>\n",
       "    </tr>\n",
       "  </thead>\n",
       "  <tbody>\n",
       "    <tr>\n",
       "      <th>0</th>\n",
       "      <td>51</td>\n",
       "      <td>5800</td>\n",
       "      <td>2200</td>\n",
       "      <td>2000</td>\n",
       "      <td>1600</td>\n",
       "    </tr>\n",
       "    <tr>\n",
       "      <th>1</th>\n",
       "      <td>54</td>\n",
       "      <td>5700</td>\n",
       "      <td>2500</td>\n",
       "      <td>2600</td>\n",
       "      <td>600</td>\n",
       "    </tr>\n",
       "    <tr>\n",
       "      <th>2</th>\n",
       "      <td>22</td>\n",
       "      <td>5200</td>\n",
       "      <td>0</td>\n",
       "      <td>500</td>\n",
       "      <td>4700</td>\n",
       "    </tr>\n",
       "    <tr>\n",
       "      <th>3</th>\n",
       "      <td>50</td>\n",
       "      <td>4700</td>\n",
       "      <td>2200</td>\n",
       "      <td>0</td>\n",
       "      <td>2500</td>\n",
       "    </tr>\n",
       "    <tr>\n",
       "      <th>4</th>\n",
       "      <td>71</td>\n",
       "      <td>4200</td>\n",
       "      <td>4200</td>\n",
       "      <td>0</td>\n",
       "      <td>0</td>\n",
       "    </tr>\n",
       "  </tbody>\n",
       "</table>\n",
       "</div>"
      ],
      "text/plain": [
       "   user_id  total_spend  credit_spend  bank_spend  other\n",
       "0       51         5800          2200        2000   1600\n",
       "1       54         5700          2500        2600    600\n",
       "2       22         5200             0         500   4700\n",
       "3       50         4700          2200           0   2500\n",
       "4       71         4200          4200           0      0"
      ]
     },
     "execution_count": 41,
     "metadata": {},
     "output_type": "execute_result"
    }
   ],
   "source": [
    "query = \"\"\"\n",
    "select user_id,\n",
    "sum(amount) as total_spend,\n",
    "sum(case when payment_method = 'credit_card' then amount else 0 end) as credit_spend,\n",
    "sum(case when payment_method = 'bank_transfer' then amount else 0 end) as bank_spend,\n",
    "sum(case when payment_method = 'bank_transfer' or payment_method = 'credit_card'  then 0 else amount end) as other\n",
    "from payments \n",
    "join orders on payments.order_id = orders.id\n",
    "where status != 'returned'\n",
    "group by user_id order by total_spend desc\n",
    "limit 5;\n",
    "\"\"\"\n",
    "pd.read_sql(query, conn)\n",
    "\n",
    "\n",
    "# user_id\ttotal_spend\tcredit_spend\tbank_spend\tother_spend\n",
    "# 0\t51\t5800\t2200\t2000\t1600\n",
    "# 1\t54\t5700\t2500\t2600\t600\n",
    "# 2\t22\t5200\t0\t500\t4700\n",
    "# 3\t50\t4700\t2200\t0\t2500\n",
    "# 4\t71\t4200\t4200\t0\t0"
   ]
  },
  {
   "cell_type": "markdown",
   "id": "94e964e2-0b7d-4ae9-8921-339f5183c133",
   "metadata": {},
   "source": [
    "### Summary"
   ]
  },
  {
   "cell_type": "markdown",
   "id": "bb4fdcb3-e763-414b-adfc-00e8f1a2a7f3",
   "metadata": {},
   "source": [
    "In this lesson, we saw how we can use case when statement to perform calculations on various customer orders.  "
   ]
  },
  {
   "cell_type": "markdown",
   "id": "00e070e9-e394-4ac7-ba7b-c9e7a6a165ff",
   "metadata": {},
   "source": [
    "### Resources\n",
    "\n",
    "[Original data](https://github.com/dbt-labs/jaffle_shop)"
   ]
  }
 ],
 "metadata": {
  "kernelspec": {
   "display_name": "Python 3 (ipykernel)",
   "language": "python",
   "name": "python3"
  },
  "language_info": {
   "codemirror_mode": {
    "name": "ipython",
    "version": 3
   },
   "file_extension": ".py",
   "mimetype": "text/x-python",
   "name": "python",
   "nbconvert_exporter": "python",
   "pygments_lexer": "ipython3",
   "version": "3.9.12"
  }
 },
 "nbformat": 4,
 "nbformat_minor": 5
}
