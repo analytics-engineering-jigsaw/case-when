{
 "cells": [
  {
   "cell_type": "markdown",
   "id": "f9c30a62-267a-4e30-abbe-70f87d8370ea",
   "metadata": {},
   "source": [
    "# Working with Null Values Lab"
   ]
  },
  {
   "cell_type": "markdown",
   "id": "ef1dcfea-9550-49c9-a741-f438e9f31210",
   "metadata": {},
   "source": [
    "### Introduction"
   ]
  },
  {
   "cell_type": "markdown",
   "id": "dd844762-a710-4995-87e1-180e9eae617f",
   "metadata": {},
   "source": [
    "In this lab, we'll practice working with the COALESCE and NULLIF commands.  Let's get started."
   ]
  },
  {
   "cell_type": "markdown",
   "id": "b83783ad-349b-4a73-b6f7-d8c12fc6e0ef",
   "metadata": {},
   "source": [
    "### Loading our Data"
   ]
  },
  {
   "cell_type": "code",
   "execution_count": 2,
   "id": "2db1887b-e3da-449e-b18c-48667bbec731",
   "metadata": {},
   "outputs": [],
   "source": [
    "import sqlite3\n",
    "conn = sqlite3.connect('crm.db')"
   ]
  },
  {
   "cell_type": "code",
   "execution_count": 4,
   "id": "e8c659a3-2b3c-4370-882f-3e4a3500ef09",
   "metadata": {},
   "outputs": [
    {
     "data": {
      "text/html": [
       "<div>\n",
       "<style scoped>\n",
       "    .dataframe tbody tr th:only-of-type {\n",
       "        vertical-align: middle;\n",
       "    }\n",
       "\n",
       "    .dataframe tbody tr th {\n",
       "        vertical-align: top;\n",
       "    }\n",
       "\n",
       "    .dataframe thead th {\n",
       "        text-align: right;\n",
       "    }\n",
       "</style>\n",
       "<table border=\"1\" class=\"dataframe\">\n",
       "  <thead>\n",
       "    <tr style=\"text-align: right;\">\n",
       "      <th></th>\n",
       "      <th>id</th>\n",
       "      <th>first_name</th>\n",
       "      <th>last_name</th>\n",
       "      <th>cell_phone</th>\n",
       "      <th>home_phone</th>\n",
       "      <th>work_phone</th>\n",
       "    </tr>\n",
       "  </thead>\n",
       "  <tbody>\n",
       "    <tr>\n",
       "      <th>0</th>\n",
       "      <td>1</td>\n",
       "      <td>Ynes</td>\n",
       "      <td>Durrett</td>\n",
       "      <td>273-102-2043</td>\n",
       "      <td>850-519-2573</td>\n",
       "      <td>152-593-2967</td>\n",
       "    </tr>\n",
       "  </tbody>\n",
       "</table>\n",
       "</div>"
      ],
      "text/plain": [
       "   id first_name last_name    cell_phone    home_phone    work_phone\n",
       "0   1       Ynes   Durrett  273-102-2043  850-519-2573  152-593-2967"
      ]
     },
     "execution_count": 4,
     "metadata": {},
     "output_type": "execute_result"
    }
   ],
   "source": [
    "import pandas as pd\n",
    "\n",
    "pd.read_sql(\"SELECT * FROM persons LIMIT 1;\",conn)"
   ]
  },
  {
   "cell_type": "markdown",
   "id": "630c7311-74e1-4b52-bcf2-65e9da658308",
   "metadata": {},
   "source": [
    "### Querying Null Values"
   ]
  },
  {
   "cell_type": "markdown",
   "id": "7d705a4b-e9ba-4f95-8e67-662d309dba57",
   "metadata": {},
   "source": [
    "Let's begin by selecting some of the rows with null values.  Find the number of rows where `home_phone` is null."
   ]
  },
  {
   "cell_type": "code",
   "execution_count": 20,
   "id": "31951225-89f1-4188-ab26-656c0f761ea8",
   "metadata": {},
   "outputs": [
    {
     "data": {
      "text/html": [
       "<div>\n",
       "<style scoped>\n",
       "    .dataframe tbody tr th:only-of-type {\n",
       "        vertical-align: middle;\n",
       "    }\n",
       "\n",
       "    .dataframe tbody tr th {\n",
       "        vertical-align: top;\n",
       "    }\n",
       "\n",
       "    .dataframe thead th {\n",
       "        text-align: right;\n",
       "    }\n",
       "</style>\n",
       "<table border=\"1\" class=\"dataframe\">\n",
       "  <thead>\n",
       "    <tr style=\"text-align: right;\">\n",
       "      <th></th>\n",
       "      <th>home_phone_null</th>\n",
       "    </tr>\n",
       "  </thead>\n",
       "  <tbody>\n",
       "    <tr>\n",
       "      <th>0</th>\n",
       "      <td>224</td>\n",
       "    </tr>\n",
       "  </tbody>\n",
       "</table>\n",
       "</div>"
      ],
      "text/plain": [
       "   home_phone_null\n",
       "0              224"
      ]
     },
     "execution_count": 20,
     "metadata": {},
     "output_type": "execute_result"
    }
   ],
   "source": [
    "query = \"\"\"\n",
    "SELECT COUNT(*) as home_phone_null FROM persons WHERE home_phone IS null;\n",
    "\"\"\"\n",
    "\n",
    "pd.read_sql(query ,conn)\n",
    "\n",
    "# \thome_phone_null\n",
    "# 0\t224"
   ]
  },
  {
   "cell_type": "markdown",
   "id": "c1d29f6a-ff49-43ee-8ac0-300c6f7e8c51",
   "metadata": {},
   "source": [
    "Now it turns out the count function will only count non-null values on a specific column.  Let's count the non-null values in home phone.  "
   ]
  },
  {
   "cell_type": "code",
   "execution_count": 15,
   "id": "4b82fb08-edc1-4b62-8363-a0a72f727fb1",
   "metadata": {},
   "outputs": [
    {
     "data": {
      "text/html": [
       "<div>\n",
       "<style scoped>\n",
       "    .dataframe tbody tr th:only-of-type {\n",
       "        vertical-align: middle;\n",
       "    }\n",
       "\n",
       "    .dataframe tbody tr th {\n",
       "        vertical-align: top;\n",
       "    }\n",
       "\n",
       "    .dataframe thead th {\n",
       "        text-align: right;\n",
       "    }\n",
       "</style>\n",
       "<table border=\"1\" class=\"dataframe\">\n",
       "  <thead>\n",
       "    <tr style=\"text-align: right;\">\n",
       "      <th></th>\n",
       "      <th>non_null_home_phone</th>\n",
       "    </tr>\n",
       "  </thead>\n",
       "  <tbody>\n",
       "    <tr>\n",
       "      <th>0</th>\n",
       "      <td>776</td>\n",
       "    </tr>\n",
       "  </tbody>\n",
       "</table>\n",
       "</div>"
      ],
      "text/plain": [
       "   non_null_home_phone\n",
       "0                  776"
      ]
     },
     "execution_count": 15,
     "metadata": {},
     "output_type": "execute_result"
    }
   ],
   "source": [
    "query = \"\"\"\n",
    "SELECT COUNT(home_phone) as non_null_home_phone FROM persons;\n",
    "\"\"\"\n",
    "\n",
    "pd.read_sql(query ,conn)\n",
    "\n",
    "# \tnon_null_home_phone\n",
    "# 0\t776"
   ]
  },
  {
   "cell_type": "markdown",
   "id": "33ddb5be-cb94-43ce-9692-17f9d75517af",
   "metadata": {},
   "source": [
    "So we can see that 776 of our rows had home phone numbers that were not null."
   ]
  },
  {
   "cell_type": "markdown",
   "id": "e27280d5-55bc-4a55-9f9c-ee2832035a56",
   "metadata": {},
   "source": [
    "Now write a select statement that returns the null values in the home_phone, cell_phone and work_phone columns.  Name these columns `missing_phone`, `missing_cell` and `missing_work`."
   ]
  },
  {
   "cell_type": "code",
   "execution_count": 30,
   "id": "ee553875-79cb-4e6a-a1bb-e187ac6e0f75",
   "metadata": {},
   "outputs": [
    {
     "data": {
      "text/html": [
       "<div>\n",
       "<style scoped>\n",
       "    .dataframe tbody tr th:only-of-type {\n",
       "        vertical-align: middle;\n",
       "    }\n",
       "\n",
       "    .dataframe tbody tr th {\n",
       "        vertical-align: top;\n",
       "    }\n",
       "\n",
       "    .dataframe thead th {\n",
       "        text-align: right;\n",
       "    }\n",
       "</style>\n",
       "<table border=\"1\" class=\"dataframe\">\n",
       "  <thead>\n",
       "    <tr style=\"text-align: right;\">\n",
       "      <th></th>\n",
       "      <th>missing_phone</th>\n",
       "      <th>missing_cell</th>\n",
       "      <th>missing_work</th>\n",
       "    </tr>\n",
       "  </thead>\n",
       "  <tbody>\n",
       "    <tr>\n",
       "      <th>0</th>\n",
       "      <td>224</td>\n",
       "      <td>0</td>\n",
       "      <td>224</td>\n",
       "    </tr>\n",
       "  </tbody>\n",
       "</table>\n",
       "</div>"
      ],
      "text/plain": [
       "   missing_phone  missing_cell  missing_work\n",
       "0            224             0           224"
      ]
     },
     "execution_count": 30,
     "metadata": {},
     "output_type": "execute_result"
    }
   ],
   "source": [
    "query = \"\"\"\n",
    "SELECT (COUNT(*) - COUNT(home_phone)) as missing_phone, \n",
    "COUNT(*) - COUNT(cell_phone) as missing_cell, \n",
    "COUNT(*) - COUNT(work_phone) as missing_work FROM persons;\n",
    "\"\"\"\n",
    "\n",
    "pd.read_sql(query, conn)"
   ]
  },
  {
   "cell_type": "markdown",
   "id": "13db07a0-3280-4c22-b141-d16c6fdb87e1",
   "metadata": {},
   "source": [
    "### Coercing Null Values "
   ]
  },
  {
   "cell_type": "markdown",
   "id": "d41f5d00-ab95-4114-9ea5-4d6fa21f4c07",
   "metadata": {},
   "source": [
    "Now let's start coercing some with some of our null values.  Begin by selecting the `id` and `home_phone` from the first 8 rows, replacing any null `home_phone` with the string `'Unknown'`."
   ]
  },
  {
   "cell_type": "code",
   "execution_count": 23,
   "id": "8a4dc778-9cab-4362-93fd-0e4f6386155a",
   "metadata": {},
   "outputs": [
    {
     "data": {
      "text/html": [
       "<div>\n",
       "<style scoped>\n",
       "    .dataframe tbody tr th:only-of-type {\n",
       "        vertical-align: middle;\n",
       "    }\n",
       "\n",
       "    .dataframe tbody tr th {\n",
       "        vertical-align: top;\n",
       "    }\n",
       "\n",
       "    .dataframe thead th {\n",
       "        text-align: right;\n",
       "    }\n",
       "</style>\n",
       "<table border=\"1\" class=\"dataframe\">\n",
       "  <thead>\n",
       "    <tr style=\"text-align: right;\">\n",
       "      <th></th>\n",
       "      <th>id</th>\n",
       "      <th>home_phone</th>\n",
       "      <th>cell_phone</th>\n",
       "      <th>work_phone</th>\n",
       "    </tr>\n",
       "  </thead>\n",
       "  <tbody>\n",
       "    <tr>\n",
       "      <th>0</th>\n",
       "      <td>1</td>\n",
       "      <td>850-519-2573</td>\n",
       "      <td>273-102-2043</td>\n",
       "      <td>152-593-2967</td>\n",
       "    </tr>\n",
       "    <tr>\n",
       "      <th>1</th>\n",
       "      <td>2</td>\n",
       "      <td>310-959-7139</td>\n",
       "      <td>301-931-3773</td>\n",
       "      <td>741-504-0114</td>\n",
       "    </tr>\n",
       "    <tr>\n",
       "      <th>2</th>\n",
       "      <td>3</td>\n",
       "      <td>474-798-1579</td>\n",
       "      <td>324-169-8178</td>\n",
       "      <td>447-945-4760</td>\n",
       "    </tr>\n",
       "    <tr>\n",
       "      <th>3</th>\n",
       "      <td>4</td>\n",
       "      <td>Unknown</td>\n",
       "      <td>439-258-2695</td>\n",
       "      <td>None</td>\n",
       "    </tr>\n",
       "    <tr>\n",
       "      <th>4</th>\n",
       "      <td>5</td>\n",
       "      <td>Unknown</td>\n",
       "      <td>254-692-3658</td>\n",
       "      <td>None</td>\n",
       "    </tr>\n",
       "    <tr>\n",
       "      <th>5</th>\n",
       "      <td>6</td>\n",
       "      <td>Unknown</td>\n",
       "      <td>505-447-9193</td>\n",
       "      <td>None</td>\n",
       "    </tr>\n",
       "    <tr>\n",
       "      <th>6</th>\n",
       "      <td>7</td>\n",
       "      <td>807-792-5705</td>\n",
       "      <td>471-468-9219</td>\n",
       "      <td>456-531-6413</td>\n",
       "    </tr>\n",
       "    <tr>\n",
       "      <th>7</th>\n",
       "      <td>8</td>\n",
       "      <td>928-375-5660</td>\n",
       "      <td>514-287-9273</td>\n",
       "      <td>798-832-6223</td>\n",
       "    </tr>\n",
       "  </tbody>\n",
       "</table>\n",
       "</div>"
      ],
      "text/plain": [
       "   id    home_phone    cell_phone    work_phone\n",
       "0   1  850-519-2573  273-102-2043  152-593-2967\n",
       "1   2  310-959-7139  301-931-3773  741-504-0114\n",
       "2   3  474-798-1579  324-169-8178  447-945-4760\n",
       "3   4       Unknown  439-258-2695          None\n",
       "4   5       Unknown  254-692-3658          None\n",
       "5   6       Unknown  505-447-9193          None\n",
       "6   7  807-792-5705  471-468-9219  456-531-6413\n",
       "7   8  928-375-5660  514-287-9273  798-832-6223"
      ]
     },
     "execution_count": 23,
     "metadata": {},
     "output_type": "execute_result"
    }
   ],
   "source": [
    "query = \"\"\"\n",
    "SELECT id, COALESCE(home_phone, 'Unknown') as home_phone, cell_phone, work_phone\n",
    "FROM persons LIMIT 8;\n",
    "\"\"\"\n",
    "\n",
    "pd.read_sql(query ,conn)\n",
    "\n",
    "# \tid\thome_phone\n",
    "# 0\t1\t850-519-2573\n",
    "# 1\t2\t310-959-7139\n",
    "# 2\t3\t474-798-1579\n",
    "# 3\t4\tUnknown\n",
    "# 4\t5\tUnknown\n",
    "# 5\t6\tUnknown\n",
    "# 6\t7\t807-792-5705\n",
    "# 7\t8\t928-375-5660"
   ]
  },
  {
   "cell_type": "markdown",
   "id": "f45e3bcb-a623-4b6a-b87a-cac74168e732",
   "metadata": {},
   "source": [
    "Next select the `id` and `home_phone` from first ten rows of the persons table, but display the `cell_phone` whenever the `home_phone` is null, and alias the column to `phone`."
   ]
  },
  {
   "cell_type": "code",
   "execution_count": 24,
   "id": "3b49df54-cef7-4f52-a464-850edc60ba3f",
   "metadata": {},
   "outputs": [
    {
     "data": {
      "text/html": [
       "<div>\n",
       "<style scoped>\n",
       "    .dataframe tbody tr th:only-of-type {\n",
       "        vertical-align: middle;\n",
       "    }\n",
       "\n",
       "    .dataframe tbody tr th {\n",
       "        vertical-align: top;\n",
       "    }\n",
       "\n",
       "    .dataframe thead th {\n",
       "        text-align: right;\n",
       "    }\n",
       "</style>\n",
       "<table border=\"1\" class=\"dataframe\">\n",
       "  <thead>\n",
       "    <tr style=\"text-align: right;\">\n",
       "      <th></th>\n",
       "      <th>id</th>\n",
       "      <th>phone</th>\n",
       "    </tr>\n",
       "  </thead>\n",
       "  <tbody>\n",
       "    <tr>\n",
       "      <th>0</th>\n",
       "      <td>1</td>\n",
       "      <td>850-519-2573</td>\n",
       "    </tr>\n",
       "    <tr>\n",
       "      <th>1</th>\n",
       "      <td>2</td>\n",
       "      <td>310-959-7139</td>\n",
       "    </tr>\n",
       "    <tr>\n",
       "      <th>2</th>\n",
       "      <td>3</td>\n",
       "      <td>474-798-1579</td>\n",
       "    </tr>\n",
       "    <tr>\n",
       "      <th>3</th>\n",
       "      <td>4</td>\n",
       "      <td>439-258-2695</td>\n",
       "    </tr>\n",
       "    <tr>\n",
       "      <th>4</th>\n",
       "      <td>5</td>\n",
       "      <td>254-692-3658</td>\n",
       "    </tr>\n",
       "    <tr>\n",
       "      <th>5</th>\n",
       "      <td>6</td>\n",
       "      <td>505-447-9193</td>\n",
       "    </tr>\n",
       "    <tr>\n",
       "      <th>6</th>\n",
       "      <td>7</td>\n",
       "      <td>807-792-5705</td>\n",
       "    </tr>\n",
       "    <tr>\n",
       "      <th>7</th>\n",
       "      <td>8</td>\n",
       "      <td>928-375-5660</td>\n",
       "    </tr>\n",
       "  </tbody>\n",
       "</table>\n",
       "</div>"
      ],
      "text/plain": [
       "   id         phone\n",
       "0   1  850-519-2573\n",
       "1   2  310-959-7139\n",
       "2   3  474-798-1579\n",
       "3   4  439-258-2695\n",
       "4   5  254-692-3658\n",
       "5   6  505-447-9193\n",
       "6   7  807-792-5705\n",
       "7   8  928-375-5660"
      ]
     },
     "execution_count": 24,
     "metadata": {},
     "output_type": "execute_result"
    }
   ],
   "source": [
    "query = \"\"\"\n",
    "SELECT id, COALESCE(home_phone, cell_phone) as phone \n",
    "FROM persons LIMIT 8;\n",
    "\"\"\"\n",
    "\n",
    "pd.read_sql(query, conn)\n",
    "\n",
    "# \tid\tphone\n",
    "# 0\t1\t850-519-2573\n",
    "# 1\t2\t310-959-7139\n",
    "# 2\t3\t474-798-1579\n",
    "# 3\t4\t439-258-2695\n",
    "# 4\t5\t254-692-3658\n",
    "# 5\t6\t505-447-9193\n",
    "# 6\t7\t807-792-5705\n",
    "# 7\t8\t928-375-5660"
   ]
  },
  {
   "cell_type": "markdown",
   "id": "15dd7134-2f4c-49ae-ae1c-685f909373bb",
   "metadata": {},
   "source": [
    "### Working with Missing Values"
   ]
  },
  {
   "cell_type": "markdown",
   "id": "900be04d-8fc3-4b2d-89e7-6404aa510d9b",
   "metadata": {},
   "source": [
    "Let's begin by counting the number of rows where the cell_phone is an empty string and name the result as `missing_cell_phone_num`."
   ]
  },
  {
   "cell_type": "code",
   "execution_count": 34,
   "id": "c2e1b7b5-029e-4b9b-a04d-9067be7a6b27",
   "metadata": {},
   "outputs": [
    {
     "data": {
      "text/html": [
       "<div>\n",
       "<style scoped>\n",
       "    .dataframe tbody tr th:only-of-type {\n",
       "        vertical-align: middle;\n",
       "    }\n",
       "\n",
       "    .dataframe tbody tr th {\n",
       "        vertical-align: top;\n",
       "    }\n",
       "\n",
       "    .dataframe thead th {\n",
       "        text-align: right;\n",
       "    }\n",
       "</style>\n",
       "<table border=\"1\" class=\"dataframe\">\n",
       "  <thead>\n",
       "    <tr style=\"text-align: right;\">\n",
       "      <th></th>\n",
       "      <th>missing_cell_phone_nums</th>\n",
       "    </tr>\n",
       "  </thead>\n",
       "  <tbody>\n",
       "    <tr>\n",
       "      <th>0</th>\n",
       "      <td>40</td>\n",
       "    </tr>\n",
       "  </tbody>\n",
       "</table>\n",
       "</div>"
      ],
      "text/plain": [
       "   missing_cell_phone_nums\n",
       "0                       40"
      ]
     },
     "execution_count": 34,
     "metadata": {},
     "output_type": "execute_result"
    }
   ],
   "source": [
    "query = \"\"\"SELECT COUNT(*) missing_cell_phone_num \n",
    "FROM persons WHERE cell_phone = '';\n",
    "\"\"\"\n",
    "pd.read_sql(query, conn)\n",
    "\n",
    "# \tmissing_cell_phone_nums\n",
    "# 0\t40"
   ]
  },
  {
   "cell_type": "markdown",
   "id": "ac57cbc0-8fca-440d-8d45-eb4db006e6dd",
   "metadata": {},
   "source": [
    "Next, let's coerce these empty strings to be null, and then select the first 10 rows with null values.\n",
    "\n",
    "> Display the id and the phone columns."
   ]
  },
  {
   "cell_type": "code",
   "execution_count": 40,
   "id": "1724d2c3-2cc3-410a-b373-a676f259dd67",
   "metadata": {},
   "outputs": [
    {
     "data": {
      "text/html": [
       "<div>\n",
       "<style scoped>\n",
       "    .dataframe tbody tr th:only-of-type {\n",
       "        vertical-align: middle;\n",
       "    }\n",
       "\n",
       "    .dataframe tbody tr th {\n",
       "        vertical-align: top;\n",
       "    }\n",
       "\n",
       "    .dataframe thead th {\n",
       "        text-align: right;\n",
       "    }\n",
       "</style>\n",
       "<table border=\"1\" class=\"dataframe\">\n",
       "  <thead>\n",
       "    <tr style=\"text-align: right;\">\n",
       "      <th></th>\n",
       "      <th>id</th>\n",
       "      <th>phone</th>\n",
       "      <th>cell_phone</th>\n",
       "    </tr>\n",
       "  </thead>\n",
       "  <tbody>\n",
       "    <tr>\n",
       "      <th>0</th>\n",
       "      <td>16</td>\n",
       "      <td>None</td>\n",
       "      <td></td>\n",
       "    </tr>\n",
       "    <tr>\n",
       "      <th>1</th>\n",
       "      <td>42</td>\n",
       "      <td>None</td>\n",
       "      <td></td>\n",
       "    </tr>\n",
       "    <tr>\n",
       "      <th>2</th>\n",
       "      <td>96</td>\n",
       "      <td>None</td>\n",
       "      <td></td>\n",
       "    </tr>\n",
       "    <tr>\n",
       "      <th>3</th>\n",
       "      <td>110</td>\n",
       "      <td>None</td>\n",
       "      <td></td>\n",
       "    </tr>\n",
       "    <tr>\n",
       "      <th>4</th>\n",
       "      <td>133</td>\n",
       "      <td>None</td>\n",
       "      <td></td>\n",
       "    </tr>\n",
       "    <tr>\n",
       "      <th>5</th>\n",
       "      <td>154</td>\n",
       "      <td>None</td>\n",
       "      <td></td>\n",
       "    </tr>\n",
       "    <tr>\n",
       "      <th>6</th>\n",
       "      <td>210</td>\n",
       "      <td>None</td>\n",
       "      <td></td>\n",
       "    </tr>\n",
       "    <tr>\n",
       "      <th>7</th>\n",
       "      <td>216</td>\n",
       "      <td>None</td>\n",
       "      <td></td>\n",
       "    </tr>\n",
       "    <tr>\n",
       "      <th>8</th>\n",
       "      <td>231</td>\n",
       "      <td>None</td>\n",
       "      <td></td>\n",
       "    </tr>\n",
       "    <tr>\n",
       "      <th>9</th>\n",
       "      <td>241</td>\n",
       "      <td>None</td>\n",
       "      <td></td>\n",
       "    </tr>\n",
       "  </tbody>\n",
       "</table>\n",
       "</div>"
      ],
      "text/plain": [
       "    id phone cell_phone\n",
       "0   16  None           \n",
       "1   42  None           \n",
       "2   96  None           \n",
       "3  110  None           \n",
       "4  133  None           \n",
       "5  154  None           \n",
       "6  210  None           \n",
       "7  216  None           \n",
       "8  231  None           \n",
       "9  241  None           "
      ]
     },
     "execution_count": 40,
     "metadata": {},
     "output_type": "execute_result"
    }
   ],
   "source": [
    "query = \"\"\"SELECT id, NULLIF(cell_phone, '') as phone, cell_phone \n",
    "FROM persons WHERE phone is NULL LIMIT 10;\n",
    "\"\"\"\n",
    "pd.read_sql(query, conn)\n",
    "\n",
    "# \tid\tphone\n",
    "# 0\t16\tNone\n",
    "# 1\t42\tNone\n",
    "# 2\t96\tNone\n",
    "# 3\t110\tNone\n",
    "# 4\t133\tNone\n",
    "# 5\t154\tNone\n",
    "# 6\t210\tNone\n",
    "# 7\t216\tNone\n",
    "# 8\t231\tNone\n",
    "# 9\t241\tNone"
   ]
  },
  {
   "cell_type": "markdown",
   "id": "218eebf8-64ad-41c9-b3fb-2c82fb79f851",
   "metadata": {},
   "source": [
    "Next, let's display the `work_phone` number for any `cell_phone` numbers that are an empty string. Then select the phone numbers that are still null.\n",
    "\n",
    "There should only be seven rows that are still null."
   ]
  },
  {
   "cell_type": "code",
   "execution_count": 49,
   "id": "51a36dcf-fab4-4649-b4da-77e3bdc6f4ce",
   "metadata": {},
   "outputs": [
    {
     "data": {
      "text/html": [
       "<div>\n",
       "<style scoped>\n",
       "    .dataframe tbody tr th:only-of-type {\n",
       "        vertical-align: middle;\n",
       "    }\n",
       "\n",
       "    .dataframe tbody tr th {\n",
       "        vertical-align: top;\n",
       "    }\n",
       "\n",
       "    .dataframe thead th {\n",
       "        text-align: right;\n",
       "    }\n",
       "</style>\n",
       "<table border=\"1\" class=\"dataframe\">\n",
       "  <thead>\n",
       "    <tr style=\"text-align: right;\">\n",
       "      <th></th>\n",
       "      <th>id</th>\n",
       "      <th>phone</th>\n",
       "    </tr>\n",
       "  </thead>\n",
       "  <tbody>\n",
       "    <tr>\n",
       "      <th>0</th>\n",
       "      <td>16</td>\n",
       "      <td>None</td>\n",
       "    </tr>\n",
       "    <tr>\n",
       "      <th>1</th>\n",
       "      <td>216</td>\n",
       "      <td>None</td>\n",
       "    </tr>\n",
       "    <tr>\n",
       "      <th>2</th>\n",
       "      <td>396</td>\n",
       "      <td>None</td>\n",
       "    </tr>\n",
       "    <tr>\n",
       "      <th>3</th>\n",
       "      <td>404</td>\n",
       "      <td>None</td>\n",
       "    </tr>\n",
       "    <tr>\n",
       "      <th>4</th>\n",
       "      <td>624</td>\n",
       "      <td>None</td>\n",
       "    </tr>\n",
       "    <tr>\n",
       "      <th>5</th>\n",
       "      <td>682</td>\n",
       "      <td>None</td>\n",
       "    </tr>\n",
       "    <tr>\n",
       "      <th>6</th>\n",
       "      <td>781</td>\n",
       "      <td>None</td>\n",
       "    </tr>\n",
       "  </tbody>\n",
       "</table>\n",
       "</div>"
      ],
      "text/plain": [
       "    id phone\n",
       "0   16  None\n",
       "1  216  None\n",
       "2  396  None\n",
       "3  404  None\n",
       "4  624  None\n",
       "5  682  None\n",
       "6  781  None"
      ]
     },
     "execution_count": 49,
     "metadata": {},
     "output_type": "execute_result"
    }
   ],
   "source": [
    "query = \"\"\"SELECT id, COALESCE(NULLIF(cell_phone, ''), work_phone) as phone\n",
    "FROM persons WHERE phone IS null;\n",
    "\"\"\"\n",
    "pd.read_sql(query, conn)\n",
    "\n",
    "# \tid\tphone\n",
    "# 0\t16\tNone\n",
    "# 1\t216\tNone\n",
    "# 2\t396\tNone\n",
    "# 3\t404\tNone\n",
    "# 4\t624\tNone\n",
    "# 5\t682\tNone\n",
    "# 6\t781\tNone"
   ]
  },
  {
   "cell_type": "markdown",
   "id": "9b40ae88-35a4-4bb8-9a5a-aed9a52579a0",
   "metadata": {},
   "source": [
    "### Summary"
   ]
  },
  {
   "cell_type": "markdown",
   "id": "24295370-9ad4-4fad-9137-ded205a33a46",
   "metadata": {},
   "source": [
    "In this lesson, we practiced working with null values in SQL.  We did so through working with the COALESCE command, which replaces null values with a hardcoded value or the value from another column.\n",
    "\n",
    "And we also practiced working with the `NULLIF` command which converts specified values to null.  Finally, we practiced working with COALESCE and NULLIF together, to first convert specific values to null and then apply coalesce for all of our null values."
   ]
  }
 ],
 "metadata": {
  "kernelspec": {
   "display_name": "Python 3 (ipykernel)",
   "language": "python",
   "name": "python3"
  },
  "language_info": {
   "codemirror_mode": {
    "name": "ipython",
    "version": 3
   },
   "file_extension": ".py",
   "mimetype": "text/x-python",
   "name": "python",
   "nbconvert_exporter": "python",
   "pygments_lexer": "ipython3",
   "version": "3.9.7"
  }
 },
 "nbformat": 4,
 "nbformat_minor": 5
}
