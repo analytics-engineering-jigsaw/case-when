{
 "cells": [
  {
   "cell_type": "markdown",
   "id": "d935466a-0b44-4e6f-b9b6-6834b1e19dce",
   "metadata": {},
   "source": [
    "* Case When\n",
    "* Coalesce\n",
    "* NullIF"
   ]
  },
  {
   "cell_type": "markdown",
   "id": "ef1c3125-85c6-4d9e-9c5e-70241a480f16",
   "metadata": {},
   "source": [
    "* in, not in \n",
    "* distinct\n",
    "* first_name || ' ' || last_name as full_name"
   ]
  },
  {
   "cell_type": "code",
   "execution_count": null,
   "id": "57219b74-9534-4b04-b063-9ee32abd0d42",
   "metadata": {},
   "outputs": [],
   "source": []
  },
  {
   "cell_type": "code",
   "execution_count": null,
   "id": "65c63028-0b0b-4b84-b913-a13cd3d80852",
   "metadata": {},
   "outputs": [],
   "source": []
  }
 ],
 "metadata": {
  "kernelspec": {
   "display_name": "Python 3 (ipykernel)",
   "language": "python",
   "name": "python3"
  },
  "language_info": {
   "codemirror_mode": {
    "name": "ipython",
    "version": 3
   },
   "file_extension": ".py",
   "mimetype": "text/x-python",
   "name": "python",
   "nbconvert_exporter": "python",
   "pygments_lexer": "ipython3",
   "version": "3.9.7"
  }
 },
 "nbformat": 4,
 "nbformat_minor": 5
}
