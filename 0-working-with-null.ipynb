{
 "cells": [
  {
   "cell_type": "markdown",
   "id": "21225b43-85a1-4451-9da0-0f5a2f5fca14",
   "metadata": {},
   "source": [
    "# Working with Null Values"
   ]
  },
  {
   "cell_type": "markdown",
   "id": "37cbf318-3a1d-4348-8717-92424b5d26d8",
   "metadata": {},
   "source": [
    "### Introduction"
   ]
  },
  {
   "cell_type": "markdown",
   "id": "91ec8365-af25-4783-b769-9f341c39b0e3",
   "metadata": {},
   "source": [
    "In this lesson, we'll learn a couple of useful command for coercing null and missing values.  The first is `COALESCE`, which coerces null values to other specified values.  And the second is `NULLIF`, which converts values -- like missing values -- to null.  Let's learn about both commands in this lesson.  "
   ]
  },
  {
   "cell_type": "markdown",
   "id": "f7367c52-0d25-46c6-80d0-ba1fc2320f1e",
   "metadata": {},
   "source": [
    "### Loading our Data"
   ]
  },
  {
   "cell_type": "markdown",
   "id": "4f41cfb0-bcaa-428d-9df1-a22d7c15dd4e",
   "metadata": {},
   "source": [
    "Let's create and load our data into the CRM database with the following."
   ]
  },
  {
   "cell_type": "code",
   "execution_count": 2,
   "id": "1c24019f-8764-4308-8239-d338c9c8537f",
   "metadata": {},
   "outputs": [],
   "source": [
    "import sqlite3\n",
    "conn = sqlite3.connect('crm.db')\n",
    "cursor = conn.cursor()"
   ]
  },
  {
   "cell_type": "code",
   "execution_count": 5,
   "id": "1843ca61-8d2e-4d09-8ef7-a47780f5f409",
   "metadata": {},
   "outputs": [
    {
     "data": {
      "text/html": [
       "<div>\n",
       "<style scoped>\n",
       "    .dataframe tbody tr th:only-of-type {\n",
       "        vertical-align: middle;\n",
       "    }\n",
       "\n",
       "    .dataframe tbody tr th {\n",
       "        vertical-align: top;\n",
       "    }\n",
       "\n",
       "    .dataframe thead th {\n",
       "        text-align: right;\n",
       "    }\n",
       "</style>\n",
       "<table border=\"1\" class=\"dataframe\">\n",
       "  <thead>\n",
       "    <tr style=\"text-align: right;\">\n",
       "      <th></th>\n",
       "      <th>id</th>\n",
       "      <th>first_name</th>\n",
       "      <th>last_name</th>\n",
       "      <th>cell_phone</th>\n",
       "      <th>home_phone</th>\n",
       "      <th>work_phone</th>\n",
       "    </tr>\n",
       "  </thead>\n",
       "  <tbody>\n",
       "    <tr>\n",
       "      <th>0</th>\n",
       "      <td>1</td>\n",
       "      <td>Ynes</td>\n",
       "      <td>Durrett</td>\n",
       "      <td>273-102-2043</td>\n",
       "      <td>850-519-2573</td>\n",
       "      <td>152-593-2967</td>\n",
       "    </tr>\n",
       "    <tr>\n",
       "      <th>1</th>\n",
       "      <td>2</td>\n",
       "      <td>NaN</td>\n",
       "      <td>Gascoyne</td>\n",
       "      <td>301-931-3773</td>\n",
       "      <td>310-959-7139</td>\n",
       "      <td>741-504-0114</td>\n",
       "    </tr>\n",
       "  </tbody>\n",
       "</table>\n",
       "</div>"
      ],
      "text/plain": [
       "   id first_name last_name    cell_phone    home_phone    work_phone\n",
       "0   1       Ynes   Durrett  273-102-2043  850-519-2573  152-593-2967\n",
       "1   2        NaN  Gascoyne  301-931-3773  310-959-7139  741-504-0114"
      ]
     },
     "execution_count": 5,
     "metadata": {},
     "output_type": "execute_result"
    }
   ],
   "source": [
    "import pandas as pd\n",
    "url = \"https://raw.githubusercontent.com/data-eng-10-21/case-when/main/coerced_persons.csv\"\n",
    "df = pd.read_csv(url)\n",
    "df[:2]"
   ]
  },
  {
   "cell_type": "code",
   "execution_count": 3,
   "id": "e50dd5e4-3a5e-45d7-b380-8c8cceceb3d5",
   "metadata": {},
   "outputs": [],
   "source": [
    "df.to_sql('persons', conn, index = False)"
   ]
  },
  {
   "cell_type": "markdown",
   "id": "6ee70949-bbcf-457c-b801-9abdd24e81f3",
   "metadata": {},
   "source": [
    "Now if we look at the data, we can see that some of the values are null."
   ]
  },
  {
   "cell_type": "code",
   "execution_count": 4,
   "id": "895a3494-ec28-4b61-8efa-126b8bcbb7fe",
   "metadata": {},
   "outputs": [
    {
     "data": {
      "text/html": [
       "<div>\n",
       "<style scoped>\n",
       "    .dataframe tbody tr th:only-of-type {\n",
       "        vertical-align: middle;\n",
       "    }\n",
       "\n",
       "    .dataframe tbody tr th {\n",
       "        vertical-align: top;\n",
       "    }\n",
       "\n",
       "    .dataframe thead th {\n",
       "        text-align: right;\n",
       "    }\n",
       "</style>\n",
       "<table border=\"1\" class=\"dataframe\">\n",
       "  <thead>\n",
       "    <tr style=\"text-align: right;\">\n",
       "      <th></th>\n",
       "      <th>id</th>\n",
       "      <th>first_name</th>\n",
       "      <th>last_name</th>\n",
       "      <th>cell_phone</th>\n",
       "      <th>home_phone</th>\n",
       "      <th>work_phone</th>\n",
       "    </tr>\n",
       "  </thead>\n",
       "  <tbody>\n",
       "    <tr>\n",
       "      <th>0</th>\n",
       "      <td>2</td>\n",
       "      <td>None</td>\n",
       "      <td>Gascoyne</td>\n",
       "      <td>301-931-3773</td>\n",
       "      <td>310-959-7139</td>\n",
       "      <td>741-504-0114</td>\n",
       "    </tr>\n",
       "    <tr>\n",
       "      <th>1</th>\n",
       "      <td>4</td>\n",
       "      <td>None</td>\n",
       "      <td>Brashier</td>\n",
       "      <td>439-258-2695</td>\n",
       "      <td>None</td>\n",
       "      <td>None</td>\n",
       "    </tr>\n",
       "    <tr>\n",
       "      <th>2</th>\n",
       "      <td>5</td>\n",
       "      <td>None</td>\n",
       "      <td>Gillis</td>\n",
       "      <td>254-692-3658</td>\n",
       "      <td>None</td>\n",
       "      <td>None</td>\n",
       "    </tr>\n",
       "  </tbody>\n",
       "</table>\n",
       "</div>"
      ],
      "text/plain": [
       "   id first_name last_name    cell_phone    home_phone    work_phone\n",
       "0   2       None  Gascoyne  301-931-3773  310-959-7139  741-504-0114\n",
       "1   4       None  Brashier  439-258-2695          None          None\n",
       "2   5       None    Gillis  254-692-3658          None          None"
      ]
     },
     "execution_count": 4,
     "metadata": {},
     "output_type": "execute_result"
    }
   ],
   "source": [
    "pd.read_sql(\"SELECT * FROM persons WHERE first_name IS NULL LIMIT 3;\", conn)"
   ]
  },
  {
   "cell_type": "markdown",
   "id": "2d15f03e-db2d-4489-8ae0-8e308aa7ce92",
   "metadata": {},
   "source": [
    "In this lesson, we'll see how we can work with those null values."
   ]
  },
  {
   "cell_type": "markdown",
   "id": "0f07f089-ebbe-49b2-8d72-013c1725e116",
   "metadata": {},
   "source": [
    "### Converting from Null Values"
   ]
  },
  {
   "cell_type": "markdown",
   "id": "2e80161e-8ebf-4fb4-82e4-977fa37811df",
   "metadata": {},
   "source": [
    "One way to work with our null values is with the Coalesce function.  The coalesce function returns the first non null value in a sequence.  For example, let's say that we want to replace any null values in first name with the string `'unknown'`.  We can do so with the following."
   ]
  },
  {
   "cell_type": "code",
   "execution_count": 62,
   "id": "58408034-0213-410b-9d27-ed682fdd9cd0",
   "metadata": {},
   "outputs": [
    {
     "data": {
      "text/html": [
       "<div>\n",
       "<style scoped>\n",
       "    .dataframe tbody tr th:only-of-type {\n",
       "        vertical-align: middle;\n",
       "    }\n",
       "\n",
       "    .dataframe tbody tr th {\n",
       "        vertical-align: top;\n",
       "    }\n",
       "\n",
       "    .dataframe thead th {\n",
       "        text-align: right;\n",
       "    }\n",
       "</style>\n",
       "<table border=\"1\" class=\"dataframe\">\n",
       "  <thead>\n",
       "    <tr style=\"text-align: right;\">\n",
       "      <th></th>\n",
       "      <th>first_name</th>\n",
       "      <th>last_name</th>\n",
       "    </tr>\n",
       "  </thead>\n",
       "  <tbody>\n",
       "    <tr>\n",
       "      <th>0</th>\n",
       "      <td>Ynes</td>\n",
       "      <td>Durrett</td>\n",
       "    </tr>\n",
       "    <tr>\n",
       "      <th>1</th>\n",
       "      <td></td>\n",
       "      <td>Gascoyne</td>\n",
       "    </tr>\n",
       "    <tr>\n",
       "      <th>2</th>\n",
       "      <td>Candis</td>\n",
       "      <td>Langthorne</td>\n",
       "    </tr>\n",
       "    <tr>\n",
       "      <th>3</th>\n",
       "      <td>Unknown</td>\n",
       "      <td>Brashier</td>\n",
       "    </tr>\n",
       "    <tr>\n",
       "      <th>4</th>\n",
       "      <td>Unknown</td>\n",
       "      <td>Gillis</td>\n",
       "    </tr>\n",
       "    <tr>\n",
       "      <th>5</th>\n",
       "      <td>Unknown</td>\n",
       "      <td>Huddy</td>\n",
       "    </tr>\n",
       "  </tbody>\n",
       "</table>\n",
       "</div>"
      ],
      "text/plain": [
       "  first_name   last_name\n",
       "0       Ynes     Durrett\n",
       "1               Gascoyne\n",
       "2     Candis  Langthorne\n",
       "3    Unknown    Brashier\n",
       "4    Unknown      Gillis\n",
       "5    Unknown       Huddy"
      ]
     },
     "execution_count": 62,
     "metadata": {},
     "output_type": "execute_result"
    }
   ],
   "source": [
    "query = \"\"\"SELECT COALESCE(first_name, 'Unknown') as first_name, last_name\n",
    "FROM persons LIMIT 6;\"\"\"\n",
    "\n",
    "pd.read_sql(query, conn)"
   ]
  },
  {
   "cell_type": "markdown",
   "id": "eca0023d-4329-4f1a-9f83-41ddff0a0c36",
   "metadata": {},
   "source": [
    "We can see that every time we had a null value -- in rows 3 through 6 -- it now replaces those with the word \"Unknown\".  So one way to think about the coalesce function is like a default argument in SQL.  When the value is null, it uses the second value. "
   ]
  },
  {
   "cell_type": "code",
   "execution_count": null,
   "id": "3e9f53e5-4012-4592-b96f-34a0193b2eca",
   "metadata": {},
   "outputs": [],
   "source": [
    "query = \"\"\"SELECT COALESCE(first_name, 'Unknown') as first_name, last_name\n",
    "FROM persons LIMIT 6;\"\"\"\n",
    "\n",
    "pd.read_sql(query, conn)"
   ]
  },
  {
   "cell_type": "markdown",
   "id": "15caead2-1408-4a4b-8220-230008c17a4e",
   "metadata": {},
   "source": [
    "With the coalesce function, we are not just limited to hardcoded values, but can also use another column value.  For example, let's say that we want to use  a person's last name when the first name is not present.  \n",
    "\n",
    "Again we can do so with the COALESCE function."
   ]
  },
  {
   "cell_type": "code",
   "execution_count": 65,
   "id": "c26bad3f-a15b-4b36-8102-608e55fe8b08",
   "metadata": {},
   "outputs": [
    {
     "data": {
      "text/html": [
       "<div>\n",
       "<style scoped>\n",
       "    .dataframe tbody tr th:only-of-type {\n",
       "        vertical-align: middle;\n",
       "    }\n",
       "\n",
       "    .dataframe tbody tr th {\n",
       "        vertical-align: top;\n",
       "    }\n",
       "\n",
       "    .dataframe thead th {\n",
       "        text-align: right;\n",
       "    }\n",
       "</style>\n",
       "<table border=\"1\" class=\"dataframe\">\n",
       "  <thead>\n",
       "    <tr style=\"text-align: right;\">\n",
       "      <th></th>\n",
       "      <th>name</th>\n",
       "      <th>last_name</th>\n",
       "    </tr>\n",
       "  </thead>\n",
       "  <tbody>\n",
       "    <tr>\n",
       "      <th>0</th>\n",
       "      <td>Ynes</td>\n",
       "      <td>Durrett</td>\n",
       "    </tr>\n",
       "    <tr>\n",
       "      <th>1</th>\n",
       "      <td></td>\n",
       "      <td>Gascoyne</td>\n",
       "    </tr>\n",
       "    <tr>\n",
       "      <th>2</th>\n",
       "      <td>Candis</td>\n",
       "      <td>Langthorne</td>\n",
       "    </tr>\n",
       "    <tr>\n",
       "      <th>3</th>\n",
       "      <td>Brashier</td>\n",
       "      <td>Brashier</td>\n",
       "    </tr>\n",
       "    <tr>\n",
       "      <th>4</th>\n",
       "      <td>Gillis</td>\n",
       "      <td>Gillis</td>\n",
       "    </tr>\n",
       "    <tr>\n",
       "      <th>5</th>\n",
       "      <td>Huddy</td>\n",
       "      <td>Huddy</td>\n",
       "    </tr>\n",
       "  </tbody>\n",
       "</table>\n",
       "</div>"
      ],
      "text/plain": [
       "       name   last_name\n",
       "0      Ynes     Durrett\n",
       "1              Gascoyne\n",
       "2    Candis  Langthorne\n",
       "3  Brashier    Brashier\n",
       "4    Gillis      Gillis\n",
       "5     Huddy       Huddy"
      ]
     },
     "execution_count": 65,
     "metadata": {},
     "output_type": "execute_result"
    }
   ],
   "source": [
    "query = \"\"\"SELECT COALESCE(first_name, last_name) as name, last_name\n",
    "FROM persons LIMIT 6;\"\"\"\n",
    "\n",
    "pd.read_sql(query, conn)"
   ]
  },
  {
   "cell_type": "markdown",
   "id": "1a669f60-f13f-4ad0-a708-df4c01d68b70",
   "metadata": {},
   "source": [
    "So this time we can see that when the first name is not available, we move to the `last_name`. "
   ]
  },
  {
   "cell_type": "markdown",
   "id": "a51199eb-dcd1-4ed5-b426-9752511d5d32",
   "metadata": {},
   "source": [
    "> Finally, the coalesce function can take as many arguments as we want, so if the first and last name are not available, we can use the word `unknown`."
   ]
  },
  {
   "cell_type": "markdown",
   "id": "be42d6b6-5c2d-4cd5-83d2-d71229e47ccd",
   "metadata": {},
   "source": [
    "```sql\n",
    "SELECT COALESCE(first_name, last_name, \"unknown\") as name, last_name\n",
    "FROM persons LIMIT 3\n",
    "```"
   ]
  },
  {
   "cell_type": "markdown",
   "id": "2022a017-206a-40af-bebc-640b8b2bd754",
   "metadata": {},
   "source": [
    "### Converting to Null Values"
   ]
  },
  {
   "cell_type": "markdown",
   "id": "5dfde040-f224-4940-8935-1d99ffc51c6a",
   "metadata": {},
   "source": [
    "Sometimes, we would prefer to represent our data as null values.  For example, if we take a look at some of the records in our persons table, we can see that some of the information is represented as empty strings."
   ]
  },
  {
   "cell_type": "code",
   "execution_count": 77,
   "id": "c90ef774-603b-41dd-be3f-5592e98759e3",
   "metadata": {},
   "outputs": [
    {
     "data": {
      "text/html": [
       "<div>\n",
       "<style scoped>\n",
       "    .dataframe tbody tr th:only-of-type {\n",
       "        vertical-align: middle;\n",
       "    }\n",
       "\n",
       "    .dataframe tbody tr th {\n",
       "        vertical-align: top;\n",
       "    }\n",
       "\n",
       "    .dataframe thead th {\n",
       "        text-align: right;\n",
       "    }\n",
       "</style>\n",
       "<table border=\"1\" class=\"dataframe\">\n",
       "  <thead>\n",
       "    <tr style=\"text-align: right;\">\n",
       "      <th></th>\n",
       "      <th>id</th>\n",
       "      <th>first_name</th>\n",
       "      <th>last_name</th>\n",
       "      <th>cell_phone</th>\n",
       "      <th>home_phone</th>\n",
       "      <th>work_phone</th>\n",
       "    </tr>\n",
       "  </thead>\n",
       "  <tbody>\n",
       "    <tr>\n",
       "      <th>0</th>\n",
       "      <td>1</td>\n",
       "      <td>Ynes</td>\n",
       "      <td>Durrett</td>\n",
       "      <td>273-102-2043</td>\n",
       "      <td>850-519-2573</td>\n",
       "      <td>152-593-2967</td>\n",
       "    </tr>\n",
       "    <tr>\n",
       "      <th>1</th>\n",
       "      <td>2</td>\n",
       "      <td></td>\n",
       "      <td>Gascoyne</td>\n",
       "      <td>301-931-3773</td>\n",
       "      <td>310-959-7139</td>\n",
       "      <td>741-504-0114</td>\n",
       "    </tr>\n",
       "    <tr>\n",
       "      <th>2</th>\n",
       "      <td>3</td>\n",
       "      <td>Candis</td>\n",
       "      <td>Langthorne</td>\n",
       "      <td>324-169-8178</td>\n",
       "      <td>474-798-1579</td>\n",
       "      <td>447-945-4760</td>\n",
       "    </tr>\n",
       "  </tbody>\n",
       "</table>\n",
       "</div>"
      ],
      "text/plain": [
       "   id first_name   last_name    cell_phone    home_phone    work_phone\n",
       "0   1       Ynes     Durrett  273-102-2043  850-519-2573  152-593-2967\n",
       "1   2               Gascoyne  301-931-3773  310-959-7139  741-504-0114\n",
       "2   3     Candis  Langthorne  324-169-8178  474-798-1579  447-945-4760"
      ]
     },
     "execution_count": 77,
     "metadata": {},
     "output_type": "execute_result"
    }
   ],
   "source": [
    "pd.read_sql(\"SELECT * FROM persons LIMIT 3\", conn)"
   ]
  },
  {
   "cell_type": "markdown",
   "id": "b0d4c216-14c0-4b2d-9a7f-15bd9b0fb43c",
   "metadata": {},
   "source": [
    "So above, our second row of data has first_name stored as an empty string.  And as we know, we also have some first_name data stored as a null value.  We can make our data more consistent by converting the empty strings to null values.  \n",
    "\n",
    "And we perform this operation with the `NULLIF` operation."
   ]
  },
  {
   "cell_type": "code",
   "execution_count": 89,
   "id": "6bbfdaa5-9e35-4659-b971-ccbf7fb5b9a4",
   "metadata": {},
   "outputs": [
    {
     "data": {
      "text/html": [
       "<div>\n",
       "<style scoped>\n",
       "    .dataframe tbody tr th:only-of-type {\n",
       "        vertical-align: middle;\n",
       "    }\n",
       "\n",
       "    .dataframe tbody tr th {\n",
       "        vertical-align: top;\n",
       "    }\n",
       "\n",
       "    .dataframe thead th {\n",
       "        text-align: right;\n",
       "    }\n",
       "</style>\n",
       "<table border=\"1\" class=\"dataframe\">\n",
       "  <thead>\n",
       "    <tr style=\"text-align: right;\">\n",
       "      <th></th>\n",
       "      <th>id</th>\n",
       "      <th>first_name</th>\n",
       "      <th>last_name</th>\n",
       "    </tr>\n",
       "  </thead>\n",
       "  <tbody>\n",
       "    <tr>\n",
       "      <th>0</th>\n",
       "      <td>1</td>\n",
       "      <td>Ynes</td>\n",
       "      <td>Durrett</td>\n",
       "    </tr>\n",
       "    <tr>\n",
       "      <th>1</th>\n",
       "      <td>2</td>\n",
       "      <td></td>\n",
       "      <td>Gascoyne</td>\n",
       "    </tr>\n",
       "    <tr>\n",
       "      <th>2</th>\n",
       "      <td>3</td>\n",
       "      <td>Candis</td>\n",
       "      <td>Langthorne</td>\n",
       "    </tr>\n",
       "    <tr>\n",
       "      <th>3</th>\n",
       "      <td>4</td>\n",
       "      <td>None</td>\n",
       "      <td>Brashier</td>\n",
       "    </tr>\n",
       "    <tr>\n",
       "      <th>4</th>\n",
       "      <td>5</td>\n",
       "      <td>None</td>\n",
       "      <td>Gillis</td>\n",
       "    </tr>\n",
       "    <tr>\n",
       "      <th>5</th>\n",
       "      <td>6</td>\n",
       "      <td>None</td>\n",
       "      <td>Huddy</td>\n",
       "    </tr>\n",
       "    <tr>\n",
       "      <th>6</th>\n",
       "      <td>7</td>\n",
       "      <td>Blakelee</td>\n",
       "      <td>Jorck</td>\n",
       "    </tr>\n",
       "    <tr>\n",
       "      <th>7</th>\n",
       "      <td>8</td>\n",
       "      <td>Ezra</td>\n",
       "      <td>Walcot</td>\n",
       "    </tr>\n",
       "    <tr>\n",
       "      <th>8</th>\n",
       "      <td>9</td>\n",
       "      <td>Page</td>\n",
       "      <td>Pardon</td>\n",
       "    </tr>\n",
       "    <tr>\n",
       "      <th>9</th>\n",
       "      <td>10</td>\n",
       "      <td></td>\n",
       "      <td>Padwick</td>\n",
       "    </tr>\n",
       "  </tbody>\n",
       "</table>\n",
       "</div>"
      ],
      "text/plain": [
       "   id first_name   last_name\n",
       "0   1       Ynes     Durrett\n",
       "1   2               Gascoyne\n",
       "2   3     Candis  Langthorne\n",
       "3   4       None    Brashier\n",
       "4   5       None      Gillis\n",
       "5   6       None       Huddy\n",
       "6   7   Blakelee       Jorck\n",
       "7   8       Ezra      Walcot\n",
       "8   9       Page      Pardon\n",
       "9  10                Padwick"
      ]
     },
     "execution_count": 89,
     "metadata": {},
     "output_type": "execute_result"
    }
   ],
   "source": [
    "pd.read_sql(\"SELECT id, first_name, last_name FROM persons LIMIT 10\", conn)"
   ]
  },
  {
   "cell_type": "code",
   "execution_count": 93,
   "id": "dd9a199e-ca63-4099-875f-eab0c0e38c4b",
   "metadata": {},
   "outputs": [
    {
     "data": {
      "text/html": [
       "<div>\n",
       "<style scoped>\n",
       "    .dataframe tbody tr th:only-of-type {\n",
       "        vertical-align: middle;\n",
       "    }\n",
       "\n",
       "    .dataframe tbody tr th {\n",
       "        vertical-align: top;\n",
       "    }\n",
       "\n",
       "    .dataframe thead th {\n",
       "        text-align: right;\n",
       "    }\n",
       "</style>\n",
       "<table border=\"1\" class=\"dataframe\">\n",
       "  <thead>\n",
       "    <tr style=\"text-align: right;\">\n",
       "      <th></th>\n",
       "      <th>id</th>\n",
       "      <th>first_name</th>\n",
       "      <th>last_name</th>\n",
       "    </tr>\n",
       "  </thead>\n",
       "  <tbody>\n",
       "    <tr>\n",
       "      <th>0</th>\n",
       "      <td>1</td>\n",
       "      <td>Ynes</td>\n",
       "      <td>Durrett</td>\n",
       "    </tr>\n",
       "    <tr>\n",
       "      <th>1</th>\n",
       "      <td>2</td>\n",
       "      <td>None</td>\n",
       "      <td>Gascoyne</td>\n",
       "    </tr>\n",
       "    <tr>\n",
       "      <th>2</th>\n",
       "      <td>3</td>\n",
       "      <td>Candis</td>\n",
       "      <td>Langthorne</td>\n",
       "    </tr>\n",
       "  </tbody>\n",
       "</table>\n",
       "</div>"
      ],
      "text/plain": [
       "   id first_name   last_name\n",
       "0   1       Ynes     Durrett\n",
       "1   2       None    Gascoyne\n",
       "2   3     Candis  Langthorne"
      ]
     },
     "execution_count": 93,
     "metadata": {},
     "output_type": "execute_result"
    }
   ],
   "source": [
    "query = \"\"\"SELECT id, NULLIF(first_name, '') as first_name, last_name \n",
    "FROM persons LIMIT 3\"\"\"\n",
    "pd.read_sql(query, conn)"
   ]
  },
  {
   "cell_type": "markdown",
   "id": "d2960b37-34f5-4e5a-984f-8a1cab0de669",
   "metadata": {},
   "source": [
    "So now we can see that our SELECT statement is representing the empty string as None.\n",
    "\n",
    "> We can select this coerced data as if it were null, but to do so, we need to use an alias, and select on that alias."
   ]
  },
  {
   "cell_type": "code",
   "execution_count": 94,
   "id": "96636f84-2ffa-45ff-af91-7bb57dc1b88b",
   "metadata": {},
   "outputs": [
    {
     "data": {
      "text/html": [
       "<div>\n",
       "<style scoped>\n",
       "    .dataframe tbody tr th:only-of-type {\n",
       "        vertical-align: middle;\n",
       "    }\n",
       "\n",
       "    .dataframe tbody tr th {\n",
       "        vertical-align: top;\n",
       "    }\n",
       "\n",
       "    .dataframe thead th {\n",
       "        text-align: right;\n",
       "    }\n",
       "</style>\n",
       "<table border=\"1\" class=\"dataframe\">\n",
       "  <thead>\n",
       "    <tr style=\"text-align: right;\">\n",
       "      <th></th>\n",
       "      <th>id</th>\n",
       "      <th>name</th>\n",
       "      <th>last_name</th>\n",
       "    </tr>\n",
       "  </thead>\n",
       "  <tbody>\n",
       "    <tr>\n",
       "      <th>0</th>\n",
       "      <td>2</td>\n",
       "      <td>None</td>\n",
       "      <td>Gascoyne</td>\n",
       "    </tr>\n",
       "    <tr>\n",
       "      <th>1</th>\n",
       "      <td>4</td>\n",
       "      <td>None</td>\n",
       "      <td>Brashier</td>\n",
       "    </tr>\n",
       "    <tr>\n",
       "      <th>2</th>\n",
       "      <td>5</td>\n",
       "      <td>None</td>\n",
       "      <td>Gillis</td>\n",
       "    </tr>\n",
       "  </tbody>\n",
       "</table>\n",
       "</div>"
      ],
      "text/plain": [
       "   id  name last_name\n",
       "0   2  None  Gascoyne\n",
       "1   4  None  Brashier\n",
       "2   5  None    Gillis"
      ]
     },
     "execution_count": 94,
     "metadata": {},
     "output_type": "execute_result"
    }
   ],
   "source": [
    "query = \"\"\"SELECT id, NULLIF(first_name, '') as name, last_name \n",
    "FROM persons WHERE name IS NULL LIMIT 3\"\"\"\n",
    "pd.read_sql(query, conn)"
   ]
  },
  {
   "cell_type": "markdown",
   "id": "a892432f-bbd8-4d76-9934-6fc1a64df8f2",
   "metadata": {},
   "source": [
    "### Combining NullIf and Coalesce"
   ]
  },
  {
   "cell_type": "markdown",
   "id": "fb286358-4199-4b1a-bc73-96f3eb39a3d2",
   "metadata": {},
   "source": [
    "Sometimes we'll see nullif and coalesce used together.  For example, let's take another look at how we first used the coalesce function."
   ]
  },
  {
   "cell_type": "code",
   "execution_count": 95,
   "id": "fbb353ad-6462-4836-8e4d-072dee1dca1c",
   "metadata": {},
   "outputs": [
    {
     "data": {
      "text/html": [
       "<div>\n",
       "<style scoped>\n",
       "    .dataframe tbody tr th:only-of-type {\n",
       "        vertical-align: middle;\n",
       "    }\n",
       "\n",
       "    .dataframe tbody tr th {\n",
       "        vertical-align: top;\n",
       "    }\n",
       "\n",
       "    .dataframe thead th {\n",
       "        text-align: right;\n",
       "    }\n",
       "</style>\n",
       "<table border=\"1\" class=\"dataframe\">\n",
       "  <thead>\n",
       "    <tr style=\"text-align: right;\">\n",
       "      <th></th>\n",
       "      <th>first_name</th>\n",
       "      <th>last_name</th>\n",
       "    </tr>\n",
       "  </thead>\n",
       "  <tbody>\n",
       "    <tr>\n",
       "      <th>0</th>\n",
       "      <td>Ynes</td>\n",
       "      <td>Durrett</td>\n",
       "    </tr>\n",
       "    <tr>\n",
       "      <th>1</th>\n",
       "      <td></td>\n",
       "      <td>Gascoyne</td>\n",
       "    </tr>\n",
       "    <tr>\n",
       "      <th>2</th>\n",
       "      <td>Candis</td>\n",
       "      <td>Langthorne</td>\n",
       "    </tr>\n",
       "    <tr>\n",
       "      <th>3</th>\n",
       "      <td>Unknown</td>\n",
       "      <td>Brashier</td>\n",
       "    </tr>\n",
       "    <tr>\n",
       "      <th>4</th>\n",
       "      <td>Unknown</td>\n",
       "      <td>Gillis</td>\n",
       "    </tr>\n",
       "    <tr>\n",
       "      <th>5</th>\n",
       "      <td>Unknown</td>\n",
       "      <td>Huddy</td>\n",
       "    </tr>\n",
       "  </tbody>\n",
       "</table>\n",
       "</div>"
      ],
      "text/plain": [
       "  first_name   last_name\n",
       "0       Ynes     Durrett\n",
       "1               Gascoyne\n",
       "2     Candis  Langthorne\n",
       "3    Unknown    Brashier\n",
       "4    Unknown      Gillis\n",
       "5    Unknown       Huddy"
      ]
     },
     "execution_count": 95,
     "metadata": {},
     "output_type": "execute_result"
    }
   ],
   "source": [
    "query = \"\"\"SELECT COALESCE(first_name, 'Unknown') as first_name, last_name\n",
    "FROM persons LIMIT 6;\"\"\"\n",
    "\n",
    "pd.read_sql(query, conn)"
   ]
  },
  {
   "cell_type": "markdown",
   "id": "fda8a5fa-9103-4648-b147-62af0f3597b9",
   "metadata": {},
   "source": [
    "It successfully changed the null values to be unknown, but did not convert the empty string values, because well empty is not the same as null."
   ]
  },
  {
   "cell_type": "markdown",
   "id": "50665e41-1c2b-4dfe-b3e0-39e1c973e7c7",
   "metadata": {},
   "source": [
    "So we can change this to capture both null and empty string values, by first converting the empty strings to null and then using coalesce."
   ]
  },
  {
   "cell_type": "code",
   "execution_count": 97,
   "id": "17a5dbc0-7141-448a-8cc9-3e4708ee21c7",
   "metadata": {},
   "outputs": [
    {
     "data": {
      "text/html": [
       "<div>\n",
       "<style scoped>\n",
       "    .dataframe tbody tr th:only-of-type {\n",
       "        vertical-align: middle;\n",
       "    }\n",
       "\n",
       "    .dataframe tbody tr th {\n",
       "        vertical-align: top;\n",
       "    }\n",
       "\n",
       "    .dataframe thead th {\n",
       "        text-align: right;\n",
       "    }\n",
       "</style>\n",
       "<table border=\"1\" class=\"dataframe\">\n",
       "  <thead>\n",
       "    <tr style=\"text-align: right;\">\n",
       "      <th></th>\n",
       "      <th>first_name</th>\n",
       "      <th>last_name</th>\n",
       "    </tr>\n",
       "  </thead>\n",
       "  <tbody>\n",
       "    <tr>\n",
       "      <th>0</th>\n",
       "      <td>Ynes</td>\n",
       "      <td>Durrett</td>\n",
       "    </tr>\n",
       "    <tr>\n",
       "      <th>1</th>\n",
       "      <td>Unknown</td>\n",
       "      <td>Gascoyne</td>\n",
       "    </tr>\n",
       "    <tr>\n",
       "      <th>2</th>\n",
       "      <td>Candis</td>\n",
       "      <td>Langthorne</td>\n",
       "    </tr>\n",
       "    <tr>\n",
       "      <th>3</th>\n",
       "      <td>Unknown</td>\n",
       "      <td>Brashier</td>\n",
       "    </tr>\n",
       "    <tr>\n",
       "      <th>4</th>\n",
       "      <td>Unknown</td>\n",
       "      <td>Gillis</td>\n",
       "    </tr>\n",
       "    <tr>\n",
       "      <th>5</th>\n",
       "      <td>Unknown</td>\n",
       "      <td>Huddy</td>\n",
       "    </tr>\n",
       "  </tbody>\n",
       "</table>\n",
       "</div>"
      ],
      "text/plain": [
       "  first_name   last_name\n",
       "0       Ynes     Durrett\n",
       "1    Unknown    Gascoyne\n",
       "2     Candis  Langthorne\n",
       "3    Unknown    Brashier\n",
       "4    Unknown      Gillis\n",
       "5    Unknown       Huddy"
      ]
     },
     "execution_count": 97,
     "metadata": {},
     "output_type": "execute_result"
    }
   ],
   "source": [
    "query = \"\"\"SELECT COALESCE(NULLIF(first_name, ''), 'Unknown') as first_name,\n",
    "last_name\n",
    "FROM persons LIMIT 6;\"\"\"\n",
    "\n",
    "pd.read_sql(query, conn)"
   ]
  },
  {
   "cell_type": "markdown",
   "id": "547828f5-8c56-4da2-b9d8-25327033059a",
   "metadata": {},
   "source": [
    "Let's break down the above.  The `NULLIF(first_name, '')` converts empty strings to null values, and COALESCE the converts any null values to `'Unknown'`."
   ]
  },
  {
   "cell_type": "markdown",
   "id": "9b426c1b-eb1e-4b83-8f1b-bc8a6fb8b445",
   "metadata": {},
   "source": [
    "```sql\n",
    "COALESCE(NULLIF(first_name, ''), 'Unknown')\n",
    "```"
   ]
  },
  {
   "cell_type": "markdown",
   "id": "c7946204-2131-4c60-8358-360338103dda",
   "metadata": {},
   "source": [
    "### Summary"
   ]
  },
  {
   "cell_type": "markdown",
   "id": "89205825-bc15-471e-a8ad-8d5f8785ffc1",
   "metadata": {},
   "source": [
    "In this lesson, we learned a couple of techniques for working with null values.  The first is the COALESCE function, which returns the first non-null argument.  \n",
    "\n",
    "We can use the COALESCE function like a default argument.  For example, the below statement will replace null first name values with unknown."
   ]
  },
  {
   "cell_type": "markdown",
   "id": "6602495e-7a02-4ffc-8f5c-0bfa76574b81",
   "metadata": {},
   "source": [
    "```sql\n",
    "SELECT COALESCE(first_name, 'Unknown') as first_name\n",
    "```"
   ]
  },
  {
   "cell_type": "markdown",
   "id": "0a4c9f5c-bade-43e0-9a70-34cccd4b9f98",
   "metadata": {},
   "source": [
    "And we can also have coalesce use the first non-null column value like so. \n",
    "```sql\n",
    "SELECT COALESCE(first_name, last_name) as name\n",
    "```"
   ]
  },
  {
   "cell_type": "markdown",
   "id": "ebbaf3d2-39b3-49ae-bc00-a60c3e1acd81",
   "metadata": {},
   "source": [
    "Then we saw we can use NULLIF to convert values to null -- like empty strings. "
   ]
  },
  {
   "cell_type": "markdown",
   "id": "6e14c6b9-d822-43d0-9d06-177039f7106f",
   "metadata": {},
   "source": [
    "```sql\n",
    "SELECT id, NULLIF(first_name, '') as name\n",
    "```"
   ]
  },
  {
   "cell_type": "markdown",
   "id": "bf318936-684f-4e83-8fe2-bde4850107c3",
   "metadata": {},
   "source": [
    "And finally, we can combine the two, to first convert null-like values to null, and then coalesce those values."
   ]
  },
  {
   "cell_type": "markdown",
   "id": "b2fb3a39-a755-4e66-baf4-77e34ea29f7c",
   "metadata": {},
   "source": [
    "```sql\n",
    "COALESCE(NULLIF(first_name, ''), 'Unknown')\n",
    "```"
   ]
  }
 ],
 "metadata": {
  "kernelspec": {
   "display_name": "Python 3 (ipykernel)",
   "language": "python",
   "name": "python3"
  },
  "language_info": {
   "codemirror_mode": {
    "name": "ipython",
    "version": 3
   },
   "file_extension": ".py",
   "mimetype": "text/x-python",
   "name": "python",
   "nbconvert_exporter": "python",
   "pygments_lexer": "ipython3",
   "version": "3.9.12"
  }
 },
 "nbformat": 4,
 "nbformat_minor": 5
}
