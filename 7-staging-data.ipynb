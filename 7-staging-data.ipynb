{
 "cells": [
  {
   "cell_type": "code",
   "execution_count": null,
   "id": "c4de3b4b-aec9-4e05-a108-6880bb6a6582",
   "metadata": {},
   "outputs": [],
   "source": []
  },
  {
   "cell_type": "markdown",
   "id": "9da16171-de11-4e3d-ba05-3ef158309d86",
   "metadata": {},
   "source": [
    "<img src=\"./loading-data-stage.png\" width=\"90%\">"
   ]
  },
  {
   "cell_type": "markdown",
   "id": "fa975ea7-4ddf-4bce-85c2-afc3edebc3a4",
   "metadata": {},
   "source": [
    "### Resources"
   ]
  },
  {
   "cell_type": "code",
   "execution_count": null,
   "id": "76bed3b6-c43f-4f52-943e-4fdec6426964",
   "metadata": {},
   "outputs": [],
   "source": []
  }
 ],
 "metadata": {
  "kernelspec": {
   "display_name": "Python 3 (ipykernel)",
   "language": "python",
   "name": "python3"
  },
  "language_info": {
   "codemirror_mode": {
    "name": "ipython",
    "version": 3
   },
   "file_extension": ".py",
   "mimetype": "text/x-python",
   "name": "python",
   "nbconvert_exporter": "python",
   "pygments_lexer": "ipython3",
   "version": "3.9.7"
  }
 },
 "nbformat": 4,
 "nbformat_minor": 5
}
